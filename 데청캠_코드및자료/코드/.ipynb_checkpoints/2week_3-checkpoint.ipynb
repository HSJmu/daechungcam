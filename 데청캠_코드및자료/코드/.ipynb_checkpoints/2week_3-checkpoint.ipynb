{
 "cells": [
  {
   "cell_type": "code",
   "execution_count": 4,
   "metadata": {},
   "outputs": [],
   "source": [
    "# 지도시각화 - GeoPandas 패키지"
   ]
  },
  {
   "cell_type": "code",
   "execution_count": 1,
   "metadata": {},
   "outputs": [
    {
     "name": "stdout",
     "output_type": "stream",
     "text": [
      "Collecting geopandas\n",
      "  Using cached geopandas-0.11.0-py3-none-any.whl (1.0 MB)\n",
      "Requirement already satisfied, skipping upgrade: fiona>=1.8 in c:\\users\\lg\\anaconda3\\lib\\site-packages (from geopandas) (1.8.4)\n",
      "Requirement already satisfied, skipping upgrade: packaging in c:\\users\\lg\\anaconda3\\lib\\site-packages (from geopandas) (20.4)\n",
      "Requirement already satisfied, skipping upgrade: pandas>=1.0.0 in c:\\users\\lg\\anaconda3\\lib\\site-packages (from geopandas) (1.3.4)\n",
      "Collecting pyproj>=2.6.1.post1\n",
      "  Using cached pyproj-3.3.1-cp38-cp38-win_amd64.whl (6.4 MB)\n",
      "Collecting shapely<2,>=1.7\n",
      "  Using cached Shapely-1.8.2-cp38-cp38-win_amd64.whl (1.3 MB)\n",
      "Requirement already satisfied, skipping upgrade: attrs>=17 in c:\\users\\lg\\anaconda3\\lib\\site-packages (from fiona>=1.8->geopandas) (19.3.0)\n",
      "Requirement already satisfied, skipping upgrade: click<8,>=4.0 in c:\\users\\lg\\anaconda3\\lib\\site-packages (from fiona>=1.8->geopandas) (7.1.2)\n",
      "Requirement already satisfied, skipping upgrade: cligj>=0.5 in c:\\users\\lg\\anaconda3\\lib\\site-packages (from fiona>=1.8->geopandas) (0.7.2)\n",
      "Requirement already satisfied, skipping upgrade: click-plugins>=1.0 in c:\\users\\lg\\anaconda3\\lib\\site-packages (from fiona>=1.8->geopandas) (1.1.1)\n",
      "Requirement already satisfied, skipping upgrade: six>=1.7 in c:\\users\\lg\\anaconda3\\lib\\site-packages (from fiona>=1.8->geopandas) (1.15.0)\n",
      "Requirement already satisfied, skipping upgrade: munch in c:\\users\\lg\\anaconda3\\lib\\site-packages (from fiona>=1.8->geopandas) (2.5.0)\n",
      "Requirement already satisfied, skipping upgrade: pyparsing>=2.0.2 in c:\\users\\lg\\anaconda3\\lib\\site-packages (from packaging->geopandas) (2.4.7)\n",
      "Requirement already satisfied, skipping upgrade: python-dateutil>=2.7.3 in c:\\users\\lg\\anaconda3\\lib\\site-packages (from pandas>=1.0.0->geopandas) (2.8.1)\n",
      "Requirement already satisfied, skipping upgrade: numpy>=1.17.3; platform_machine != \"aarch64\" and platform_machine != \"arm64\" and python_version < \"3.10\" in c:\\users\\lg\\anaconda3\\lib\\site-packages (from pandas>=1.0.0->geopandas) (1.18.5)\n",
      "Requirement already satisfied, skipping upgrade: pytz>=2017.3 in c:\\users\\lg\\anaconda3\\lib\\site-packages (from pandas>=1.0.0->geopandas) (2020.1)\n",
      "Requirement already satisfied, skipping upgrade: certifi in c:\\users\\lg\\anaconda3\\lib\\site-packages (from pyproj>=2.6.1.post1->geopandas) (2022.6.15)\n",
      "Installing collected packages: pyproj, shapely, geopandas\n",
      "  Attempting uninstall: pyproj\n",
      "    Found existing installation: pyproj 1.9.6\n",
      "    Uninstalling pyproj-1.9.6:\n",
      "      Successfully uninstalled pyproj-1.9.6\n",
      "  Attempting uninstall: shapely\n",
      "    Found existing installation: Shapely 1.6.4.post1\n",
      "    Uninstalling Shapely-1.6.4.post1:\n",
      "      Successfully uninstalled Shapely-1.6.4.post1\n",
      "  Attempting uninstall: geopandas\n",
      "    Found existing installation: geopandas 0.6.3\n",
      "    Uninstalling geopandas-0.6.3:\n",
      "      Successfully uninstalled geopandas-0.6.3\n",
      "Successfully installed geopandas-0.11.0 pyproj-3.3.1 shapely-1.8.2\n",
      "Collecting pyshp\n",
      "  Using cached pyshp-2.3.0-py2.py3-none-any.whl (46 kB)\n",
      "Installing collected packages: pyshp\n",
      "Successfully installed pyshp-2.3.0\n",
      "Requirement already up-to-date: shapely in c:\\users\\lg\\anaconda3\\lib\\site-packages (1.8.2)\n",
      "Requirement already up-to-date: geopandas in c:\\users\\lg\\anaconda3\\lib\\site-packages (0.11.0)\n",
      "Requirement already satisfied, skipping upgrade: shapely<2,>=1.7 in c:\\users\\lg\\anaconda3\\lib\\site-packages (from geopandas) (1.8.2)\n",
      "Requirement already satisfied, skipping upgrade: fiona>=1.8 in c:\\users\\lg\\anaconda3\\lib\\site-packages (from geopandas) (1.8.4)\n",
      "Requirement already satisfied, skipping upgrade: packaging in c:\\users\\lg\\anaconda3\\lib\\site-packages (from geopandas) (20.4)\n",
      "Requirement already satisfied, skipping upgrade: pandas>=1.0.0 in c:\\users\\lg\\anaconda3\\lib\\site-packages (from geopandas) (1.3.4)\n",
      "Requirement already satisfied, skipping upgrade: pyproj>=2.6.1.post1 in c:\\users\\lg\\anaconda3\\lib\\site-packages (from geopandas) (3.3.1)\n",
      "Requirement already satisfied, skipping upgrade: attrs>=17 in c:\\users\\lg\\anaconda3\\lib\\site-packages (from fiona>=1.8->geopandas) (19.3.0)\n",
      "Requirement already satisfied, skipping upgrade: click<8,>=4.0 in c:\\users\\lg\\anaconda3\\lib\\site-packages (from fiona>=1.8->geopandas) (7.1.2)\n",
      "Requirement already satisfied, skipping upgrade: cligj>=0.5 in c:\\users\\lg\\anaconda3\\lib\\site-packages (from fiona>=1.8->geopandas) (0.7.2)\n",
      "Requirement already satisfied, skipping upgrade: click-plugins>=1.0 in c:\\users\\lg\\anaconda3\\lib\\site-packages (from fiona>=1.8->geopandas) (1.1.1)\n",
      "Requirement already satisfied, skipping upgrade: six>=1.7 in c:\\users\\lg\\anaconda3\\lib\\site-packages (from fiona>=1.8->geopandas) (1.15.0)\n",
      "Requirement already satisfied, skipping upgrade: munch in c:\\users\\lg\\anaconda3\\lib\\site-packages (from fiona>=1.8->geopandas) (2.5.0)\n",
      "Requirement already satisfied, skipping upgrade: pyparsing>=2.0.2 in c:\\users\\lg\\anaconda3\\lib\\site-packages (from packaging->geopandas) (2.4.7)\n",
      "Requirement already satisfied, skipping upgrade: python-dateutil>=2.7.3 in c:\\users\\lg\\anaconda3\\lib\\site-packages (from pandas>=1.0.0->geopandas) (2.8.1)\n",
      "Requirement already satisfied, skipping upgrade: pytz>=2017.3 in c:\\users\\lg\\anaconda3\\lib\\site-packages (from pandas>=1.0.0->geopandas) (2020.1)\n",
      "Requirement already satisfied, skipping upgrade: numpy>=1.17.3; platform_machine != \"aarch64\" and platform_machine != \"arm64\" and python_version < \"3.10\" in c:\\users\\lg\\anaconda3\\lib\\site-packages (from pandas>=1.0.0->geopandas) (1.18.5)\n",
      "Requirement already satisfied, skipping upgrade: certifi in c:\\users\\lg\\anaconda3\\lib\\site-packages (from pyproj>=2.6.1.post1->geopandas) (2022.6.15)\n"
     ]
    }
   ],
   "source": [
    "!pip install --upgrade geopandas\n",
    "!pip install --upgrade pyshp\n",
    "!pip install --upgrade shapely\n",
    "!pip install --upgrade geopandas\n"
   ]
  },
  {
   "cell_type": "code",
   "execution_count": 2,
   "metadata": {},
   "outputs": [
    {
     "name": "stdout",
     "output_type": "stream",
     "text": [
      "Collecting contextily\n",
      "  Using cached contextily-1.2.0-py3-none-any.whl (16 kB)\n",
      "Collecting rasterio\n",
      "  Using cached rasterio-1.3.0-cp38-cp38-win_amd64.whl (15.6 MB)\n",
      "Requirement already satisfied, skipping upgrade: requests in c:\\users\\lg\\anaconda3\\lib\\site-packages (from contextily) (2.24.0)\n",
      "Collecting mercantile\n",
      "  Using cached mercantile-1.2.1-py3-none-any.whl (14 kB)\n",
      "Collecting geopy\n",
      "  Using cached geopy-2.2.0-py3-none-any.whl (118 kB)\n",
      "Requirement already satisfied, skipping upgrade: joblib in c:\\users\\lg\\anaconda3\\lib\\site-packages (from contextily) (0.16.0)\n",
      "Collecting xyzservices\n",
      "  Using cached xyzservices-2022.6.0-py3-none-any.whl (36 kB)\n",
      "Requirement already satisfied, skipping upgrade: pillow in c:\\users\\lg\\anaconda3\\lib\\site-packages (from contextily) (7.2.0)\n",
      "Requirement already satisfied, skipping upgrade: matplotlib in c:\\users\\lg\\anaconda3\\lib\\site-packages (from contextily) (3.2.2)\n",
      "Requirement already satisfied, skipping upgrade: certifi in c:\\users\\lg\\anaconda3\\lib\\site-packages (from rasterio->contextily) (2022.6.15)\n",
      "Requirement already satisfied, skipping upgrade: setuptools in c:\\users\\lg\\anaconda3\\lib\\site-packages (from rasterio->contextily) (49.2.0.post20200714)\n",
      "Requirement already satisfied, skipping upgrade: click>=4.0 in c:\\users\\lg\\anaconda3\\lib\\site-packages (from rasterio->contextily) (7.1.2)\n",
      "Requirement already satisfied, skipping upgrade: click-plugins in c:\\users\\lg\\anaconda3\\lib\\site-packages (from rasterio->contextily) (1.1.1)\n",
      "Collecting affine\n",
      "  Using cached affine-2.3.1-py2.py3-none-any.whl (16 kB)\n",
      "Requirement already satisfied, skipping upgrade: cligj>=0.5 in c:\\users\\lg\\anaconda3\\lib\\site-packages (from rasterio->contextily) (0.7.2)\n",
      "Requirement already satisfied, skipping upgrade: attrs in c:\\users\\lg\\anaconda3\\lib\\site-packages (from rasterio->contextily) (19.3.0)\n",
      "Requirement already satisfied, skipping upgrade: numpy in c:\\users\\lg\\anaconda3\\lib\\site-packages (from rasterio->contextily) (1.18.5)\n",
      "Collecting snuggs>=1.4.1\n",
      "  Using cached snuggs-1.4.7-py3-none-any.whl (5.4 kB)\n",
      "Requirement already satisfied, skipping upgrade: urllib3!=1.25.0,!=1.25.1,<1.26,>=1.21.1 in c:\\users\\lg\\anaconda3\\lib\\site-packages (from requests->contextily) (1.25.9)\n",
      "Requirement already satisfied, skipping upgrade: idna<3,>=2.5 in c:\\users\\lg\\anaconda3\\lib\\site-packages (from requests->contextily) (2.10)\n",
      "Requirement already satisfied, skipping upgrade: chardet<4,>=3.0.2 in c:\\users\\lg\\anaconda3\\lib\\site-packages (from requests->contextily) (3.0.4)\n",
      "Collecting geographiclib<2,>=1.49\n",
      "  Using cached geographiclib-1.52-py3-none-any.whl (38 kB)\n",
      "Requirement already satisfied, skipping upgrade: python-dateutil>=2.1 in c:\\users\\lg\\anaconda3\\lib\\site-packages (from matplotlib->contextily) (2.8.1)\n",
      "Requirement already satisfied, skipping upgrade: pyparsing!=2.0.4,!=2.1.2,!=2.1.6,>=2.0.1 in c:\\users\\lg\\anaconda3\\lib\\site-packages (from matplotlib->contextily) (2.4.7)\n",
      "Requirement already satisfied, skipping upgrade: cycler>=0.10 in c:\\users\\lg\\anaconda3\\lib\\site-packages (from matplotlib->contextily) (0.10.0)\n",
      "Requirement already satisfied, skipping upgrade: kiwisolver>=1.0.1 in c:\\users\\lg\\anaconda3\\lib\\site-packages (from matplotlib->contextily) (1.2.0)\n",
      "Requirement already satisfied, skipping upgrade: six>=1.5 in c:\\users\\lg\\anaconda3\\lib\\site-packages (from python-dateutil>=2.1->matplotlib->contextily) (1.15.0)\n",
      "Installing collected packages: affine, snuggs, rasterio, mercantile, geographiclib, geopy, xyzservices, contextily\n",
      "Successfully installed affine-2.3.1 contextily-1.2.0 geographiclib-1.52 geopy-2.2.0 mercantile-1.2.1 rasterio-1.3.0 snuggs-1.4.7 xyzservices-2022.6.0\n"
     ]
    }
   ],
   "source": [
    "!pip install --upgrade contextily"
   ]
  },
  {
   "cell_type": "code",
   "execution_count": 3,
   "metadata": {},
   "outputs": [],
   "source": [
    "from matplotlib import pyplot as plt\n",
    "# 그래프 한글 표시 \n",
    "plt.rcParams['font.family'] = 'Gulim'"
   ]
  },
  {
   "cell_type": "code",
   "execution_count": 4,
   "metadata": {},
   "outputs": [],
   "source": [
    "import geopandas as gpd"
   ]
  },
  {
   "cell_type": "code",
   "execution_count": 8,
   "metadata": {},
   "outputs": [],
   "source": [
    "import pandas as pd\n",
    "import numpy as np"
   ]
  },
  {
   "cell_type": "code",
   "execution_count": 12,
   "metadata": {},
   "outputs": [
    {
     "ename": "ImportError",
     "evalue": "DLL load failed while importing _base: 지정된 프로시저를 찾을 수 없습니다.",
     "output_type": "error",
     "traceback": [
      "\u001b[1;31m---------------------------------------------------------------------------\u001b[0m",
      "\u001b[1;31mImportError\u001b[0m                               Traceback (most recent call last)",
      "\u001b[1;32m<ipython-input-12-90425f271be4>\u001b[0m in \u001b[0;36m<module>\u001b[1;34m\u001b[0m\n\u001b[1;32m----> 1\u001b[1;33m \u001b[1;32mimport\u001b[0m \u001b[0mcontextily\u001b[0m \u001b[1;32mas\u001b[0m \u001b[0mctx\u001b[0m\u001b[1;33m\u001b[0m\u001b[1;33m\u001b[0m\u001b[0m\n\u001b[0m",
      "\u001b[1;32m~\\anaconda3\\lib\\site-packages\\contextily\\__init__.py\u001b[0m in \u001b[0;36m<module>\u001b[1;34m\u001b[0m\n\u001b[0;32m      4\u001b[0m \u001b[1;33m\u001b[0m\u001b[0m\n\u001b[0;32m      5\u001b[0m \u001b[1;32mimport\u001b[0m \u001b[0mxyzservices\u001b[0m\u001b[1;33m.\u001b[0m\u001b[0mproviders\u001b[0m \u001b[1;32mas\u001b[0m \u001b[0mproviders\u001b[0m\u001b[1;33m\u001b[0m\u001b[1;33m\u001b[0m\u001b[0m\n\u001b[1;32m----> 6\u001b[1;33m \u001b[1;32mfrom\u001b[0m \u001b[1;33m.\u001b[0m\u001b[0mplace\u001b[0m \u001b[1;32mimport\u001b[0m \u001b[0mPlace\u001b[0m\u001b[1;33m,\u001b[0m \u001b[0mplot_map\u001b[0m\u001b[1;33m\u001b[0m\u001b[1;33m\u001b[0m\u001b[0m\n\u001b[0m\u001b[0;32m      7\u001b[0m \u001b[1;32mfrom\u001b[0m \u001b[1;33m.\u001b[0m\u001b[0mtile\u001b[0m \u001b[1;32mimport\u001b[0m \u001b[1;33m*\u001b[0m\u001b[1;33m\u001b[0m\u001b[1;33m\u001b[0m\u001b[0m\n\u001b[0;32m      8\u001b[0m \u001b[1;32mfrom\u001b[0m \u001b[1;33m.\u001b[0m\u001b[0mplotting\u001b[0m \u001b[1;32mimport\u001b[0m \u001b[0madd_basemap\u001b[0m\u001b[1;33m,\u001b[0m \u001b[0madd_attribution\u001b[0m\u001b[1;33m\u001b[0m\u001b[1;33m\u001b[0m\u001b[0m\n",
      "\u001b[1;32m~\\anaconda3\\lib\\site-packages\\contextily\\place.py\u001b[0m in \u001b[0;36m<module>\u001b[1;34m\u001b[0m\n\u001b[0;32m      5\u001b[0m \u001b[1;32mimport\u001b[0m \u001b[0mwarnings\u001b[0m\u001b[1;33m\u001b[0m\u001b[1;33m\u001b[0m\u001b[0m\n\u001b[0;32m      6\u001b[0m \u001b[1;33m\u001b[0m\u001b[0m\n\u001b[1;32m----> 7\u001b[1;33m \u001b[1;32mfrom\u001b[0m \u001b[1;33m.\u001b[0m\u001b[0mtile\u001b[0m \u001b[1;32mimport\u001b[0m \u001b[0mhowmany\u001b[0m\u001b[1;33m,\u001b[0m \u001b[0mbounds2raster\u001b[0m\u001b[1;33m,\u001b[0m \u001b[0mbounds2img\u001b[0m\u001b[1;33m,\u001b[0m \u001b[0m_sm2ll\u001b[0m\u001b[1;33m,\u001b[0m \u001b[0m_calculate_zoom\u001b[0m\u001b[1;33m\u001b[0m\u001b[1;33m\u001b[0m\u001b[0m\n\u001b[0m\u001b[0;32m      8\u001b[0m \u001b[1;32mfrom\u001b[0m \u001b[1;33m.\u001b[0m\u001b[0mplotting\u001b[0m \u001b[1;32mimport\u001b[0m \u001b[0mINTERPOLATION\u001b[0m\u001b[1;33m,\u001b[0m \u001b[0mZOOM\u001b[0m\u001b[1;33m,\u001b[0m \u001b[0madd_attribution\u001b[0m\u001b[1;33m\u001b[0m\u001b[1;33m\u001b[0m\u001b[0m\n\u001b[0;32m      9\u001b[0m \u001b[1;32mfrom\u001b[0m \u001b[1;33m.\u001b[0m \u001b[1;32mimport\u001b[0m \u001b[0mproviders\u001b[0m\u001b[1;33m\u001b[0m\u001b[1;33m\u001b[0m\u001b[0m\n",
      "\u001b[1;32m~\\anaconda3\\lib\\site-packages\\contextily\\tile.py\u001b[0m in \u001b[0;36m<module>\u001b[1;34m\u001b[0m\n\u001b[0;32m     14\u001b[0m \u001b[1;33m\u001b[0m\u001b[0m\n\u001b[0;32m     15\u001b[0m \u001b[1;32mimport\u001b[0m \u001b[0mnumpy\u001b[0m \u001b[1;32mas\u001b[0m \u001b[0mnp\u001b[0m\u001b[1;33m\u001b[0m\u001b[1;33m\u001b[0m\u001b[0m\n\u001b[1;32m---> 16\u001b[1;33m \u001b[1;32mimport\u001b[0m \u001b[0mrasterio\u001b[0m \u001b[1;32mas\u001b[0m \u001b[0mrio\u001b[0m\u001b[1;33m\u001b[0m\u001b[1;33m\u001b[0m\u001b[0m\n\u001b[0m\u001b[0;32m     17\u001b[0m \u001b[1;32mfrom\u001b[0m \u001b[0mPIL\u001b[0m \u001b[1;32mimport\u001b[0m \u001b[0mImage\u001b[0m\u001b[1;33m\u001b[0m\u001b[1;33m\u001b[0m\u001b[0m\n\u001b[0;32m     18\u001b[0m \u001b[1;32mfrom\u001b[0m \u001b[0mjoblib\u001b[0m \u001b[1;32mimport\u001b[0m \u001b[0mMemory\u001b[0m \u001b[1;32mas\u001b[0m \u001b[0m_Memory\u001b[0m\u001b[1;33m\u001b[0m\u001b[1;33m\u001b[0m\u001b[0m\n",
      "\u001b[1;32m~\\anaconda3\\lib\\site-packages\\rasterio\\__init__.py\u001b[0m in \u001b[0;36m<module>\u001b[1;34m\u001b[0m\n\u001b[0;32m     20\u001b[0m             \u001b[1;32mpass\u001b[0m\u001b[1;33m\u001b[0m\u001b[1;33m\u001b[0m\u001b[0m\n\u001b[0;32m     21\u001b[0m \u001b[1;33m\u001b[0m\u001b[0m\n\u001b[1;32m---> 22\u001b[1;33m \u001b[1;32mfrom\u001b[0m \u001b[0mrasterio\u001b[0m\u001b[1;33m.\u001b[0m\u001b[0m_base\u001b[0m \u001b[1;32mimport\u001b[0m \u001b[0mgdal_version\u001b[0m\u001b[1;33m\u001b[0m\u001b[1;33m\u001b[0m\u001b[0m\n\u001b[0m\u001b[0;32m     23\u001b[0m \u001b[1;32mfrom\u001b[0m \u001b[0mrasterio\u001b[0m\u001b[1;33m.\u001b[0m\u001b[0mdrivers\u001b[0m \u001b[1;32mimport\u001b[0m \u001b[0mis_blacklisted\u001b[0m\u001b[1;33m\u001b[0m\u001b[1;33m\u001b[0m\u001b[0m\n\u001b[0;32m     24\u001b[0m from rasterio.dtypes import (\n",
      "\u001b[1;31mImportError\u001b[0m: DLL load failed while importing _base: 지정된 프로시저를 찾을 수 없습니다."
     ]
    }
   ],
   "source": [
    "import contextily as ctx"
   ]
  },
  {
   "cell_type": "code",
   "execution_count": 9,
   "metadata": {},
   "outputs": [],
   "source": [
    "# 타슈 공영자전거 위치 현황\n",
    "tashu_station=pd.read_csv('data/대전광역시_공영자전거(타슈) 위치(위경도) 현황_20200801.csv',encoding='cp949')"
   ]
  },
  {
   "cell_type": "code",
   "execution_count": 10,
   "metadata": {},
   "outputs": [
    {
     "data": {
      "text/html": [
       "<div>\n",
       "<style scoped>\n",
       "    .dataframe tbody tr th:only-of-type {\n",
       "        vertical-align: middle;\n",
       "    }\n",
       "\n",
       "    .dataframe tbody tr th {\n",
       "        vertical-align: top;\n",
       "    }\n",
       "\n",
       "    .dataframe thead th {\n",
       "        text-align: right;\n",
       "    }\n",
       "</style>\n",
       "<table border=\"1\" class=\"dataframe\">\n",
       "  <thead>\n",
       "    <tr style=\"text-align: right;\">\n",
       "      <th></th>\n",
       "      <th>연번</th>\n",
       "      <th>Station 스테이션/성명</th>\n",
       "      <th>위치</th>\n",
       "      <th>Latitude</th>\n",
       "      <th>Longitude</th>\n",
       "      <th>광역시도코드</th>\n",
       "      <th>광역시도명</th>\n",
       "      <th>시군구코드</th>\n",
       "      <th>시군구명</th>\n",
       "      <th>법정동코드</th>\n",
       "      <th>법정동명</th>\n",
       "      <th>행정동코드</th>\n",
       "      <th>행정동명</th>\n",
       "      <th>거치대</th>\n",
       "      <th>geometry</th>\n",
       "    </tr>\n",
       "  </thead>\n",
       "  <tbody>\n",
       "    <tr>\n",
       "      <th>0</th>\n",
       "      <td>1</td>\n",
       "      <td>무역전시관입구(택시승강장)</td>\n",
       "      <td>대전광역시 유성구 도룡동 3-8</td>\n",
       "      <td>36.374708</td>\n",
       "      <td>127.389027</td>\n",
       "      <td>30</td>\n",
       "      <td>대전광역시</td>\n",
       "      <td>30200</td>\n",
       "      <td>유성구</td>\n",
       "      <td>3020012700</td>\n",
       "      <td>도룡동</td>\n",
       "      <td>3020055000</td>\n",
       "      <td>신성동</td>\n",
       "      <td>14</td>\n",
       "      <td>POINT (127.38903 36.37471)</td>\n",
       "    </tr>\n",
       "  </tbody>\n",
       "</table>\n",
       "</div>"
      ],
      "text/plain": [
       "   연번 Station 스테이션/성명                 위치   Latitude   Longitude  광역시도코드  \\\n",
       "0   1  무역전시관입구(택시승강장)  대전광역시 유성구 도룡동 3-8  36.374708  127.389027      30   \n",
       "\n",
       "   광역시도명  시군구코드 시군구명       법정동코드 법정동명       행정동코드 행정동명  거치대  \\\n",
       "0  대전광역시  30200  유성구  3020012700  도룡동  3020055000  신성동   14   \n",
       "\n",
       "                     geometry  \n",
       "0  POINT (127.38903 36.37471)  "
      ]
     },
     "execution_count": 10,
     "metadata": {},
     "output_type": "execute_result"
    }
   ],
   "source": [
    "# dataframe을 geodataframe으로 저장\n",
    "gdf_station = gpd.GeoDataFrame(\n",
    "    tashu_station, crs = 'epsg:4326',\n",
    "    geometry = gpd.points_from_xy(\n",
    "        tashu_station.Longitude,\n",
    "        tashu_station.Latitude\n",
    "    )\n",
    ")\n",
    "\n",
    "gdf_station.head(1)"
   ]
  },
  {
   "cell_type": "markdown",
   "metadata": {},
   "source": [
    "- 점의 위치, 크기, 색상\n",
    "- 위치표시 - 점(기본)"
   ]
  },
  {
   "cell_type": "code",
   "execution_count": 2,
   "metadata": {},
   "outputs": [],
   "source": [
    "ax = gdf_station.plot()"
   ]
  },
  {
   "cell_type": "code",
   "execution_count": null,
   "metadata": {},
   "outputs": [],
   "source": [
    "# 위치 표시 - 점 + 지도\n",
    "ax = gdf_station.to_crs(epsg=3857).plot()\n",
    "ctx.add_basemap(ax)"
   ]
  },
  {
   "cell_type": "code",
   "execution_count": null,
   "metadata": {},
   "outputs": [],
   "source": [
    "### 시군구 색상 설정\n",
    "col_levels = {'유성구': \"r\", '서구':'g','대덕구':'b',\n",
    "              '중구':'y','동구':'b'}\n",
    "gdf_station['color'] = [col_levels[i] for i in gdf_station['시군구명']]"
   ]
  },
  {
   "cell_type": "code",
   "execution_count": null,
   "metadata": {},
   "outputs": [],
   "source": [
    "### 위치표시 - 점 + 지도 + 크기 + 색상\n",
    "gdf_station"
   ]
  },
  {
   "cell_type": "code",
   "execution_count": null,
   "metadata": {},
   "outputs": [],
   "source": [
    "ax = gdf_station.to_crs(epsg = 3857).plot(\n",
    "    markersize=gdf_station['거치대'] *2,\n",
    "    color = gdf_station['color'],\n",
    "    figsize=(6,6)\n",
    ")\n",
    "\n",
    "ctx.add_basemap(ax,source = ctx.providers.CartoDB.Positron)\n",
    "#ax.set_title('대전광역시 타슈 대여소')\n",
    "ax.set_axis_off()"
   ]
  },
  {
   "cell_type": "code",
   "execution_count": null,
   "metadata": {},
   "outputs": [],
   "source": []
  }
 ],
 "metadata": {
  "kernelspec": {
   "display_name": "Python 3",
   "language": "python",
   "name": "python3"
  },
  "language_info": {
   "codemirror_mode": {
    "name": "ipython",
    "version": 3
   },
   "file_extension": ".py",
   "mimetype": "text/x-python",
   "name": "python",
   "nbconvert_exporter": "python",
   "pygments_lexer": "ipython3",
   "version": "3.8.3"
  },
  "vscode": {
   "interpreter": {
    "hash": "47f3cc9052f016f82b14d5be19f61c26b7122183893832c2c3c9e309886fecb4"
   }
  }
 },
 "nbformat": 4,
 "nbformat_minor": 2
}
