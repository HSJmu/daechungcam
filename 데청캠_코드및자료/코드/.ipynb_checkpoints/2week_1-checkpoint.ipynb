{
 "cells": [
  {
   "cell_type": "code",
   "execution_count": 1,
   "metadata": {},
   "outputs": [],
   "source": [
    "import pandas as pd\n",
    "import easygui as fileopenbox\n",
    "import numpy as np"
   ]
  },
  {
   "cell_type": "code",
   "execution_count": 15,
   "metadata": {},
   "outputs": [
    {
     "name": "stdout",
     "output_type": "stream",
     "text": [
      "Requirement already satisfied: easygui in c:\\users\\lg\\anaconda3\\lib\\site-packages (0.98.1)\n"
     ]
    }
   ],
   "source": [
    "#!pip install easygui"
   ]
  },
  {
   "cell_type": "code",
   "execution_count": 2,
   "metadata": {},
   "outputs": [],
   "source": [
    "tashu_2020 = pd.read_csv(\"data/2020.csv\",encoding=\"cp949\")"
   ]
  },
  {
   "cell_type": "code",
   "execution_count": 3,
   "metadata": {},
   "outputs": [
    {
     "data": {
      "text/html": [
       "<div>\n",
       "<style scoped>\n",
       "    .dataframe tbody tr th:only-of-type {\n",
       "        vertical-align: middle;\n",
       "    }\n",
       "\n",
       "    .dataframe tbody tr th {\n",
       "        vertical-align: top;\n",
       "    }\n",
       "\n",
       "    .dataframe thead th {\n",
       "        text-align: right;\n",
       "    }\n",
       "</style>\n",
       "<table border=\"1\" class=\"dataframe\">\n",
       "  <thead>\n",
       "    <tr style=\"text-align: right;\">\n",
       "      <th></th>\n",
       "      <th>대여스테이션</th>\n",
       "      <th>대여일시</th>\n",
       "      <th>반납스테이션</th>\n",
       "      <th>반납일시</th>\n",
       "      <th>이동거리</th>\n",
       "      <th>회원구분</th>\n",
       "    </tr>\n",
       "  </thead>\n",
       "  <tbody>\n",
       "    <tr>\n",
       "      <th>0</th>\n",
       "      <td>174</td>\n",
       "      <td>20200101000100</td>\n",
       "      <td>224.0</td>\n",
       "      <td>20200101001137</td>\n",
       "      <td>640.0</td>\n",
       "      <td>2</td>\n",
       "    </tr>\n",
       "    <tr>\n",
       "      <th>1</th>\n",
       "      <td>174</td>\n",
       "      <td>20200101000109</td>\n",
       "      <td>224.0</td>\n",
       "      <td>20200101001210</td>\n",
       "      <td>640.0</td>\n",
       "      <td>2</td>\n",
       "    </tr>\n",
       "    <tr>\n",
       "      <th>2</th>\n",
       "      <td>117</td>\n",
       "      <td>20200101050735</td>\n",
       "      <td>115.0</td>\n",
       "      <td>20200101051922</td>\n",
       "      <td>1070.0</td>\n",
       "      <td>0</td>\n",
       "    </tr>\n",
       "    <tr>\n",
       "      <th>3</th>\n",
       "      <td>167</td>\n",
       "      <td>20200101051348</td>\n",
       "      <td>94.0</td>\n",
       "      <td>20200101054627</td>\n",
       "      <td>1490.0</td>\n",
       "      <td>2</td>\n",
       "    </tr>\n",
       "    <tr>\n",
       "      <th>4</th>\n",
       "      <td>203</td>\n",
       "      <td>20200101052002</td>\n",
       "      <td>203.0</td>\n",
       "      <td>20200101052058</td>\n",
       "      <td>0.0</td>\n",
       "      <td>1</td>\n",
       "    </tr>\n",
       "  </tbody>\n",
       "</table>\n",
       "</div>"
      ],
      "text/plain": [
       "   대여스테이션            대여일시  반납스테이션            반납일시    이동거리  회원구분\n",
       "0     174  20200101000100   224.0  20200101001137   640.0     2\n",
       "1     174  20200101000109   224.0  20200101001210   640.0     2\n",
       "2     117  20200101050735   115.0  20200101051922  1070.0     0\n",
       "3     167  20200101051348    94.0  20200101054627  1490.0     2\n",
       "4     203  20200101052002   203.0  20200101052058     0.0     1"
      ]
     },
     "execution_count": 3,
     "metadata": {},
     "output_type": "execute_result"
    }
   ],
   "source": [
    "tashu_2020.head()"
   ]
  },
  {
   "cell_type": "code",
   "execution_count": 4,
   "metadata": {},
   "outputs": [
    {
     "name": "stdout",
     "output_type": "stream",
     "text": [
      "<class 'pandas.core.frame.DataFrame'>\n",
      "RangeIndex: 604446 entries, 0 to 604445\n",
      "Data columns (total 6 columns):\n",
      " #   Column  Non-Null Count   Dtype  \n",
      "---  ------  --------------   -----  \n",
      " 0   대여스테이션  604446 non-null  int64  \n",
      " 1   대여일시    604446 non-null  int64  \n",
      " 2   반납스테이션  595778 non-null  float64\n",
      " 3   반납일시    604446 non-null  int64  \n",
      " 4   이동거리    595857 non-null  float64\n",
      " 5   회원구분    604446 non-null  int64  \n",
      "dtypes: float64(2), int64(4)\n",
      "memory usage: 27.7 MB\n"
     ]
    }
   ],
   "source": [
    "tashu_2020.info()"
   ]
  },
  {
   "cell_type": "code",
   "execution_count": 5,
   "metadata": {},
   "outputs": [
    {
     "data": {
      "text/plain": [
       "대여스테이션      int64\n",
       "대여일시        int64\n",
       "반납스테이션    float64\n",
       "반납일시        int64\n",
       "이동거리      float64\n",
       "회원구분        int64\n",
       "dtype: object"
      ]
     },
     "execution_count": 5,
     "metadata": {},
     "output_type": "execute_result"
    }
   ],
   "source": [
    "tashu_2020.dtypes"
   ]
  },
  {
   "cell_type": "code",
   "execution_count": 6,
   "metadata": {},
   "outputs": [],
   "source": [
    "# 타슈 공영자전거 위치 현황\n",
    "tashu_station=pd.read_csv('data/대전광역시_공영자전거(타슈) 위치(위경도) 현황_20200801.csv',encoding='cp949')"
   ]
  },
  {
   "cell_type": "code",
   "execution_count": 7,
   "metadata": {},
   "outputs": [
    {
     "name": "stdout",
     "output_type": "stream",
     "text": [
      "<class 'pandas.core.frame.DataFrame'>\n",
      "RangeIndex: 262 entries, 0 to 261\n",
      "Data columns (total 14 columns):\n",
      " #   Column           Non-Null Count  Dtype  \n",
      "---  ------           --------------  -----  \n",
      " 0   연번               262 non-null    int64  \n",
      " 1   Station 스테이션/성명  262 non-null    object \n",
      " 2   위치               262 non-null    object \n",
      " 3   Latitude         262 non-null    float64\n",
      " 4   Longitude        262 non-null    float64\n",
      " 5   광역시도코드           262 non-null    int64  \n",
      " 6   광역시도명            262 non-null    object \n",
      " 7   시군구코드            262 non-null    int64  \n",
      " 8   시군구명             262 non-null    object \n",
      " 9   법정동코드            262 non-null    int64  \n",
      " 10  법정동명             262 non-null    object \n",
      " 11  행정동코드            262 non-null    int64  \n",
      " 12  행정동명             262 non-null    object \n",
      " 13  거치대              262 non-null    int64  \n",
      "dtypes: float64(2), int64(6), object(6)\n",
      "memory usage: 28.8+ KB\n"
     ]
    }
   ],
   "source": [
    "tashu_station.info()"
   ]
  },
  {
   "cell_type": "code",
   "execution_count": 8,
   "metadata": {},
   "outputs": [],
   "source": [
    "# 자료형 변환 정수 -> 문자\n",
    "tashu_station['연번'] = tashu_station['연번'].astype('string')"
   ]
  },
  {
   "cell_type": "code",
   "execution_count": 9,
   "metadata": {},
   "outputs": [
    {
     "name": "stdout",
     "output_type": "stream",
     "text": [
      "<class 'pandas.core.frame.DataFrame'>\n",
      "RangeIndex: 262 entries, 0 to 261\n",
      "Data columns (total 14 columns):\n",
      " #   Column           Non-Null Count  Dtype  \n",
      "---  ------           --------------  -----  \n",
      " 0   연번               262 non-null    string \n",
      " 1   Station 스테이션/성명  262 non-null    object \n",
      " 2   위치               262 non-null    object \n",
      " 3   Latitude         262 non-null    float64\n",
      " 4   Longitude        262 non-null    float64\n",
      " 5   광역시도코드           262 non-null    int64  \n",
      " 6   광역시도명            262 non-null    object \n",
      " 7   시군구코드            262 non-null    int64  \n",
      " 8   시군구명             262 non-null    object \n",
      " 9   법정동코드            262 non-null    int64  \n",
      " 10  법정동명             262 non-null    object \n",
      " 11  행정동코드            262 non-null    int64  \n",
      " 12  행정동명             262 non-null    object \n",
      " 13  거치대              262 non-null    int64  \n",
      "dtypes: float64(2), int64(5), object(6), string(1)\n",
      "memory usage: 28.8+ KB\n"
     ]
    }
   ],
   "source": [
    "tashu_station.info()"
   ]
  },
  {
   "cell_type": "code",
   "execution_count": 10,
   "metadata": {},
   "outputs": [
    {
     "data": {
      "text/html": [
       "<div>\n",
       "<style scoped>\n",
       "    .dataframe tbody tr th:only-of-type {\n",
       "        vertical-align: middle;\n",
       "    }\n",
       "\n",
       "    .dataframe tbody tr th {\n",
       "        vertical-align: top;\n",
       "    }\n",
       "\n",
       "    .dataframe thead th {\n",
       "        text-align: right;\n",
       "    }\n",
       "</style>\n",
       "<table border=\"1\" class=\"dataframe\">\n",
       "  <thead>\n",
       "    <tr style=\"text-align: right;\">\n",
       "      <th></th>\n",
       "      <th>Latitude</th>\n",
       "      <th>Longitude</th>\n",
       "      <th>광역시도코드</th>\n",
       "      <th>시군구코드</th>\n",
       "      <th>법정동코드</th>\n",
       "      <th>행정동코드</th>\n",
       "      <th>거치대</th>\n",
       "    </tr>\n",
       "  </thead>\n",
       "  <tbody>\n",
       "    <tr>\n",
       "      <th>count</th>\n",
       "      <td>262.000000</td>\n",
       "      <td>262.000000</td>\n",
       "      <td>262.0</td>\n",
       "      <td>262.000000</td>\n",
       "      <td>2.620000e+02</td>\n",
       "      <td>2.620000e+02</td>\n",
       "      <td>262.000000</td>\n",
       "    </tr>\n",
       "    <tr>\n",
       "      <th>mean</th>\n",
       "      <td>36.351732</td>\n",
       "      <td>127.389331</td>\n",
       "      <td>30.0</td>\n",
       "      <td>30174.694656</td>\n",
       "      <td>3.017481e+09</td>\n",
       "      <td>3.017528e+09</td>\n",
       "      <td>13.160305</td>\n",
       "    </tr>\n",
       "    <tr>\n",
       "      <th>std</th>\n",
       "      <td>0.035057</td>\n",
       "      <td>0.041962</td>\n",
       "      <td>0.0</td>\n",
       "      <td>37.351267</td>\n",
       "      <td>3.735294e+06</td>\n",
       "      <td>3.732557e+06</td>\n",
       "      <td>2.343383</td>\n",
       "    </tr>\n",
       "    <tr>\n",
       "      <th>min</th>\n",
       "      <td>36.285146</td>\n",
       "      <td>127.292753</td>\n",
       "      <td>30.0</td>\n",
       "      <td>30110.000000</td>\n",
       "      <td>3.011010e+09</td>\n",
       "      <td>3.011052e+09</td>\n",
       "      <td>8.000000</td>\n",
       "    </tr>\n",
       "    <tr>\n",
       "      <th>25%</th>\n",
       "      <td>36.325279</td>\n",
       "      <td>127.355846</td>\n",
       "      <td>30.0</td>\n",
       "      <td>30140.000000</td>\n",
       "      <td>3.014012e+09</td>\n",
       "      <td>3.014070e+09</td>\n",
       "      <td>12.000000</td>\n",
       "    </tr>\n",
       "    <tr>\n",
       "      <th>50%</th>\n",
       "      <td>36.351485</td>\n",
       "      <td>127.388494</td>\n",
       "      <td>30.0</td>\n",
       "      <td>30170.000000</td>\n",
       "      <td>3.017011e+09</td>\n",
       "      <td>3.017064e+09</td>\n",
       "      <td>13.000000</td>\n",
       "    </tr>\n",
       "    <tr>\n",
       "      <th>75%</th>\n",
       "      <td>36.368162</td>\n",
       "      <td>127.426030</td>\n",
       "      <td>30.0</td>\n",
       "      <td>30200.000000</td>\n",
       "      <td>3.020012e+09</td>\n",
       "      <td>3.020055e+09</td>\n",
       "      <td>14.000000</td>\n",
       "    </tr>\n",
       "    <tr>\n",
       "      <th>max</th>\n",
       "      <td>36.453886</td>\n",
       "      <td>127.465841</td>\n",
       "      <td>30.0</td>\n",
       "      <td>30230.000000</td>\n",
       "      <td>3.023013e+09</td>\n",
       "      <td>3.023061e+09</td>\n",
       "      <td>28.000000</td>\n",
       "    </tr>\n",
       "  </tbody>\n",
       "</table>\n",
       "</div>"
      ],
      "text/plain": [
       "         Latitude   Longitude  광역시도코드         시군구코드         법정동코드  \\\n",
       "count  262.000000  262.000000   262.0    262.000000  2.620000e+02   \n",
       "mean    36.351732  127.389331    30.0  30174.694656  3.017481e+09   \n",
       "std      0.035057    0.041962     0.0     37.351267  3.735294e+06   \n",
       "min     36.285146  127.292753    30.0  30110.000000  3.011010e+09   \n",
       "25%     36.325279  127.355846    30.0  30140.000000  3.014012e+09   \n",
       "50%     36.351485  127.388494    30.0  30170.000000  3.017011e+09   \n",
       "75%     36.368162  127.426030    30.0  30200.000000  3.020012e+09   \n",
       "max     36.453886  127.465841    30.0  30230.000000  3.023013e+09   \n",
       "\n",
       "              행정동코드         거치대  \n",
       "count  2.620000e+02  262.000000  \n",
       "mean   3.017528e+09   13.160305  \n",
       "std    3.732557e+06    2.343383  \n",
       "min    3.011052e+09    8.000000  \n",
       "25%    3.014070e+09   12.000000  \n",
       "50%    3.017064e+09   13.000000  \n",
       "75%    3.020055e+09   14.000000  \n",
       "max    3.023061e+09   28.000000  "
      ]
     },
     "execution_count": 10,
     "metadata": {},
     "output_type": "execute_result"
    }
   ],
   "source": [
    "# 기술 통계량 (데이터 요약)\n",
    "tashu_station.describe()"
   ]
  },
  {
   "cell_type": "code",
   "execution_count": 11,
   "metadata": {},
   "outputs": [
    {
     "data": {
      "text/html": [
       "<div>\n",
       "<style scoped>\n",
       "    .dataframe tbody tr th:only-of-type {\n",
       "        vertical-align: middle;\n",
       "    }\n",
       "\n",
       "    .dataframe tbody tr th {\n",
       "        vertical-align: top;\n",
       "    }\n",
       "\n",
       "    .dataframe thead th {\n",
       "        text-align: right;\n",
       "    }\n",
       "</style>\n",
       "<table border=\"1\" class=\"dataframe\">\n",
       "  <thead>\n",
       "    <tr style=\"text-align: right;\">\n",
       "      <th></th>\n",
       "      <th>연번</th>\n",
       "      <th>Station 스테이션/성명</th>\n",
       "      <th>위치</th>\n",
       "      <th>광역시도명</th>\n",
       "      <th>시군구명</th>\n",
       "      <th>법정동명</th>\n",
       "      <th>행정동명</th>\n",
       "    </tr>\n",
       "  </thead>\n",
       "  <tbody>\n",
       "    <tr>\n",
       "      <th>count</th>\n",
       "      <td>262</td>\n",
       "      <td>262</td>\n",
       "      <td>262</td>\n",
       "      <td>262</td>\n",
       "      <td>262</td>\n",
       "      <td>262</td>\n",
       "      <td>262</td>\n",
       "    </tr>\n",
       "    <tr>\n",
       "      <th>unique</th>\n",
       "      <td>262</td>\n",
       "      <td>262</td>\n",
       "      <td>258</td>\n",
       "      <td>1</td>\n",
       "      <td>5</td>\n",
       "      <td>87</td>\n",
       "      <td>70</td>\n",
       "    </tr>\n",
       "    <tr>\n",
       "      <th>top</th>\n",
       "      <td>1</td>\n",
       "      <td>무역전시관입구(택시승강장)</td>\n",
       "      <td>대전광역시 유성구 구성동 23</td>\n",
       "      <td>대전광역시</td>\n",
       "      <td>유성구</td>\n",
       "      <td>둔산동</td>\n",
       "      <td>신성동</td>\n",
       "    </tr>\n",
       "    <tr>\n",
       "      <th>freq</th>\n",
       "      <td>1</td>\n",
       "      <td>1</td>\n",
       "      <td>4</td>\n",
       "      <td>262</td>\n",
       "      <td>76</td>\n",
       "      <td>20</td>\n",
       "      <td>14</td>\n",
       "    </tr>\n",
       "  </tbody>\n",
       "</table>\n",
       "</div>"
      ],
      "text/plain": [
       "         연번 Station 스테이션/성명                위치  광역시도명 시군구명 법정동명 행정동명\n",
       "count   262             262               262    262  262  262  262\n",
       "unique  262             262               258      1    5   87   70\n",
       "top       1  무역전시관입구(택시승강장)  대전광역시 유성구 구성동 23  대전광역시  유성구  둔산동  신성동\n",
       "freq      1               1                 4    262   76   20   14"
      ]
     },
     "execution_count": 11,
     "metadata": {},
     "output_type": "execute_result"
    }
   ],
   "source": [
    "# 기술 통계량 (데이터 요약)\n",
    "tashu_station.describe(exclude=[np.number]) # 수치형 제외"
   ]
  },
  {
   "cell_type": "code",
   "execution_count": 12,
   "metadata": {},
   "outputs": [],
   "source": [
    "# 자료형 변환 정수 -> 문자\n",
    "# 자료형 변환 정수 -> 문자\n",
    "tashu_2020['반납스테이션'] = tashu_2020['반납스테이션'].astype('Int64', errors='ignore')"
   ]
  },
  {
   "cell_type": "code",
   "execution_count": 13,
   "metadata": {},
   "outputs": [
    {
     "data": {
      "text/plain": [
       "0         224\n",
       "1         224\n",
       "2         115\n",
       "3          94\n",
       "4         203\n",
       "         ... \n",
       "604441    118\n",
       "604442    182\n",
       "604443     83\n",
       "604444    196\n",
       "604445    108\n",
       "Name: 반납스테이션, Length: 604446, dtype: Int64"
      ]
     },
     "execution_count": 13,
     "metadata": {},
     "output_type": "execute_result"
    }
   ],
   "source": [
    "tashu_2020['반납스테이션'] "
   ]
  },
  {
   "cell_type": "code",
   "execution_count": 14,
   "metadata": {},
   "outputs": [],
   "source": [
    "# 자료형 변환 정수 -> 문자\n",
    "tashu_2020[['대여스테이션','반납스테이션']] = tashu_2020[['대여스테이션','반납스테이션']].astype('string')"
   ]
  },
  {
   "cell_type": "code",
   "execution_count": 15,
   "metadata": {},
   "outputs": [
    {
     "name": "stdout",
     "output_type": "stream",
     "text": [
      "<class 'pandas.core.frame.DataFrame'>\n",
      "RangeIndex: 604446 entries, 0 to 604445\n",
      "Data columns (total 6 columns):\n",
      " #   Column  Non-Null Count   Dtype  \n",
      "---  ------  --------------   -----  \n",
      " 0   대여스테이션  604446 non-null  string \n",
      " 1   대여일시    604446 non-null  int64  \n",
      " 2   반납스테이션  595778 non-null  string \n",
      " 3   반납일시    604446 non-null  int64  \n",
      " 4   이동거리    595857 non-null  float64\n",
      " 5   회원구분    604446 non-null  int64  \n",
      "dtypes: float64(1), int64(3), string(2)\n",
      "memory usage: 27.7 MB\n"
     ]
    }
   ],
   "source": [
    "tashu_2020.info()"
   ]
  },
  {
   "cell_type": "code",
   "execution_count": 16,
   "metadata": {},
   "outputs": [
    {
     "data": {
      "text/html": [
       "<div>\n",
       "<style scoped>\n",
       "    .dataframe tbody tr th:only-of-type {\n",
       "        vertical-align: middle;\n",
       "    }\n",
       "\n",
       "    .dataframe tbody tr th {\n",
       "        vertical-align: top;\n",
       "    }\n",
       "\n",
       "    .dataframe thead th {\n",
       "        text-align: right;\n",
       "    }\n",
       "</style>\n",
       "<table border=\"1\" class=\"dataframe\">\n",
       "  <thead>\n",
       "    <tr style=\"text-align: right;\">\n",
       "      <th></th>\n",
       "      <th>대여스테이션</th>\n",
       "      <th>대여일시</th>\n",
       "      <th>반납스테이션</th>\n",
       "      <th>반납일시</th>\n",
       "      <th>이동거리</th>\n",
       "      <th>회원구분</th>\n",
       "    </tr>\n",
       "  </thead>\n",
       "  <tbody>\n",
       "    <tr>\n",
       "      <th>0</th>\n",
       "      <td>174</td>\n",
       "      <td>20200101000100</td>\n",
       "      <td>224</td>\n",
       "      <td>20200101001137</td>\n",
       "      <td>640.0</td>\n",
       "      <td>2</td>\n",
       "    </tr>\n",
       "    <tr>\n",
       "      <th>1</th>\n",
       "      <td>174</td>\n",
       "      <td>20200101000109</td>\n",
       "      <td>224</td>\n",
       "      <td>20200101001210</td>\n",
       "      <td>640.0</td>\n",
       "      <td>2</td>\n",
       "    </tr>\n",
       "    <tr>\n",
       "      <th>2</th>\n",
       "      <td>117</td>\n",
       "      <td>20200101050735</td>\n",
       "      <td>115</td>\n",
       "      <td>20200101051922</td>\n",
       "      <td>1070.0</td>\n",
       "      <td>0</td>\n",
       "    </tr>\n",
       "    <tr>\n",
       "      <th>3</th>\n",
       "      <td>167</td>\n",
       "      <td>20200101051348</td>\n",
       "      <td>94</td>\n",
       "      <td>20200101054627</td>\n",
       "      <td>1490.0</td>\n",
       "      <td>2</td>\n",
       "    </tr>\n",
       "    <tr>\n",
       "      <th>4</th>\n",
       "      <td>203</td>\n",
       "      <td>20200101052002</td>\n",
       "      <td>203</td>\n",
       "      <td>20200101052058</td>\n",
       "      <td>0.0</td>\n",
       "      <td>1</td>\n",
       "    </tr>\n",
       "  </tbody>\n",
       "</table>\n",
       "</div>"
      ],
      "text/plain": [
       "  대여스테이션            대여일시 반납스테이션            반납일시    이동거리  회원구분\n",
       "0    174  20200101000100    224  20200101001137   640.0     2\n",
       "1    174  20200101000109    224  20200101001210   640.0     2\n",
       "2    117  20200101050735    115  20200101051922  1070.0     0\n",
       "3    167  20200101051348     94  20200101054627  1490.0     2\n",
       "4    203  20200101052002    203  20200101052058     0.0     1"
      ]
     },
     "execution_count": 16,
     "metadata": {},
     "output_type": "execute_result"
    }
   ],
   "source": [
    "tashu_2020.head()"
   ]
  },
  {
   "cell_type": "markdown",
   "metadata": {},
   "source": [
    "### 자료합치기 - merge(tashu_2020 / tashu_station)"
   ]
  },
  {
   "cell_type": "code",
   "execution_count": 17,
   "metadata": {},
   "outputs": [],
   "source": [
    "# 1번째 방법 \n",
    "### merge by values\n",
    "df_right = tashu_station[['연번','Station 스테이션/성명']]\n",
    "df_right.columns = ['대여스테이션','대여스테이션_이름']\n",
    "tashu_2020_station = tashu_2020.merge(df_right, left_on='대여스테이션', right_on='대여스테이션')\n"
   ]
  },
  {
   "cell_type": "code",
   "execution_count": 18,
   "metadata": {},
   "outputs": [
    {
     "data": {
      "text/html": [
       "<div>\n",
       "<style scoped>\n",
       "    .dataframe tbody tr th:only-of-type {\n",
       "        vertical-align: middle;\n",
       "    }\n",
       "\n",
       "    .dataframe tbody tr th {\n",
       "        vertical-align: top;\n",
       "    }\n",
       "\n",
       "    .dataframe thead th {\n",
       "        text-align: right;\n",
       "    }\n",
       "</style>\n",
       "<table border=\"1\" class=\"dataframe\">\n",
       "  <thead>\n",
       "    <tr style=\"text-align: right;\">\n",
       "      <th></th>\n",
       "      <th>대여스테이션</th>\n",
       "      <th>대여일시</th>\n",
       "      <th>반납스테이션</th>\n",
       "      <th>반납일시</th>\n",
       "      <th>이동거리</th>\n",
       "      <th>회원구분</th>\n",
       "      <th>대여스테이션_이름</th>\n",
       "    </tr>\n",
       "  </thead>\n",
       "  <tbody>\n",
       "    <tr>\n",
       "      <th>0</th>\n",
       "      <td>174</td>\n",
       "      <td>20200101000100</td>\n",
       "      <td>224</td>\n",
       "      <td>20200101001137</td>\n",
       "      <td>640.0</td>\n",
       "      <td>2</td>\n",
       "      <td>가수원네거리(전통시장 입구)</td>\n",
       "    </tr>\n",
       "    <tr>\n",
       "      <th>1</th>\n",
       "      <td>174</td>\n",
       "      <td>20200101000109</td>\n",
       "      <td>224</td>\n",
       "      <td>20200101001210</td>\n",
       "      <td>640.0</td>\n",
       "      <td>2</td>\n",
       "      <td>가수원네거리(전통시장 입구)</td>\n",
       "    </tr>\n",
       "    <tr>\n",
       "      <th>2</th>\n",
       "      <td>174</td>\n",
       "      <td>20200101233236</td>\n",
       "      <td>175</td>\n",
       "      <td>20200101234225</td>\n",
       "      <td>800.0</td>\n",
       "      <td>2</td>\n",
       "      <td>가수원네거리(전통시장 입구)</td>\n",
       "    </tr>\n",
       "    <tr>\n",
       "      <th>3</th>\n",
       "      <td>174</td>\n",
       "      <td>20200101233237</td>\n",
       "      <td>175</td>\n",
       "      <td>20200101234236</td>\n",
       "      <td>800.0</td>\n",
       "      <td>2</td>\n",
       "      <td>가수원네거리(전통시장 입구)</td>\n",
       "    </tr>\n",
       "    <tr>\n",
       "      <th>4</th>\n",
       "      <td>174</td>\n",
       "      <td>20200102202221</td>\n",
       "      <td>253</td>\n",
       "      <td>20200102205546</td>\n",
       "      <td>2360.0</td>\n",
       "      <td>2</td>\n",
       "      <td>가수원네거리(전통시장 입구)</td>\n",
       "    </tr>\n",
       "  </tbody>\n",
       "</table>\n",
       "</div>"
      ],
      "text/plain": [
       "  대여스테이션            대여일시 반납스테이션            반납일시    이동거리  회원구분        대여스테이션_이름\n",
       "0    174  20200101000100    224  20200101001137   640.0     2  가수원네거리(전통시장 입구)\n",
       "1    174  20200101000109    224  20200101001210   640.0     2  가수원네거리(전통시장 입구)\n",
       "2    174  20200101233236    175  20200101234225   800.0     2  가수원네거리(전통시장 입구)\n",
       "3    174  20200101233237    175  20200101234236   800.0     2  가수원네거리(전통시장 입구)\n",
       "4    174  20200102202221    253  20200102205546  2360.0     2  가수원네거리(전통시장 입구)"
      ]
     },
     "execution_count": 18,
     "metadata": {},
     "output_type": "execute_result"
    }
   ],
   "source": [
    "tashu_2020_station.head()"
   ]
  },
  {
   "cell_type": "code",
   "execution_count": 19,
   "metadata": {},
   "outputs": [
    {
     "data": {
      "text/html": [
       "<div>\n",
       "<style scoped>\n",
       "    .dataframe tbody tr th:only-of-type {\n",
       "        vertical-align: middle;\n",
       "    }\n",
       "\n",
       "    .dataframe tbody tr th {\n",
       "        vertical-align: top;\n",
       "    }\n",
       "\n",
       "    .dataframe thead th {\n",
       "        text-align: right;\n",
       "    }\n",
       "</style>\n",
       "<table border=\"1\" class=\"dataframe\">\n",
       "  <thead>\n",
       "    <tr style=\"text-align: right;\">\n",
       "      <th></th>\n",
       "      <th>대여스테이션</th>\n",
       "      <th>대여일시</th>\n",
       "      <th>반납스테이션</th>\n",
       "      <th>반납일시</th>\n",
       "      <th>이동거리</th>\n",
       "      <th>회원구분</th>\n",
       "      <th>대여스테이션_이름</th>\n",
       "      <th>반납스테이션_이름</th>\n",
       "    </tr>\n",
       "  </thead>\n",
       "  <tbody>\n",
       "    <tr>\n",
       "      <th>0</th>\n",
       "      <td>174</td>\n",
       "      <td>20200101000100</td>\n",
       "      <td>224</td>\n",
       "      <td>20200101001137</td>\n",
       "      <td>640.0</td>\n",
       "      <td>2</td>\n",
       "      <td>가수원네거리(전통시장 입구)</td>\n",
       "      <td>정림삼거리</td>\n",
       "    </tr>\n",
       "    <tr>\n",
       "      <th>1</th>\n",
       "      <td>174</td>\n",
       "      <td>20200101000109</td>\n",
       "      <td>224</td>\n",
       "      <td>20200101001210</td>\n",
       "      <td>640.0</td>\n",
       "      <td>2</td>\n",
       "      <td>가수원네거리(전통시장 입구)</td>\n",
       "      <td>정림삼거리</td>\n",
       "    </tr>\n",
       "    <tr>\n",
       "      <th>2</th>\n",
       "      <td>174</td>\n",
       "      <td>20200101233236</td>\n",
       "      <td>175</td>\n",
       "      <td>20200101234225</td>\n",
       "      <td>800.0</td>\n",
       "      <td>2</td>\n",
       "      <td>가수원네거리(전통시장 입구)</td>\n",
       "      <td>건양대네거리</td>\n",
       "    </tr>\n",
       "    <tr>\n",
       "      <th>3</th>\n",
       "      <td>174</td>\n",
       "      <td>20200101233237</td>\n",
       "      <td>175</td>\n",
       "      <td>20200101234236</td>\n",
       "      <td>800.0</td>\n",
       "      <td>2</td>\n",
       "      <td>가수원네거리(전통시장 입구)</td>\n",
       "      <td>건양대네거리</td>\n",
       "    </tr>\n",
       "    <tr>\n",
       "      <th>4</th>\n",
       "      <td>174</td>\n",
       "      <td>20200102202221</td>\n",
       "      <td>253</td>\n",
       "      <td>20200102205546</td>\n",
       "      <td>2360.0</td>\n",
       "      <td>2</td>\n",
       "      <td>가수원네거리(전통시장 입구)</td>\n",
       "      <td>가수원파출소(건너편)</td>\n",
       "    </tr>\n",
       "  </tbody>\n",
       "</table>\n",
       "</div>"
      ],
      "text/plain": [
       "  대여스테이션            대여일시 반납스테이션            반납일시    이동거리  회원구분  \\\n",
       "0    174  20200101000100    224  20200101001137   640.0     2   \n",
       "1    174  20200101000109    224  20200101001210   640.0     2   \n",
       "2    174  20200101233236    175  20200101234225   800.0     2   \n",
       "3    174  20200101233237    175  20200101234236   800.0     2   \n",
       "4    174  20200102202221    253  20200102205546  2360.0     2   \n",
       "\n",
       "         대여스테이션_이름    반납스테이션_이름  \n",
       "0  가수원네거리(전통시장 입구)        정림삼거리  \n",
       "1  가수원네거리(전통시장 입구)        정림삼거리  \n",
       "2  가수원네거리(전통시장 입구)       건양대네거리  \n",
       "3  가수원네거리(전통시장 입구)       건양대네거리  \n",
       "4  가수원네거리(전통시장 입구)  가수원파출소(건너편)  "
      ]
     },
     "execution_count": 19,
     "metadata": {},
     "output_type": "execute_result"
    }
   ],
   "source": [
    "### merge by values - left\n",
    "df_right = tashu_station[['연번','Station 스테이션/성명']]\n",
    "df_right.columns = ['반납스테이션','반납스테이션_이름']\n",
    "tashu_2020_station = tashu_2020_station.merge(df_right, left_on='반납스테이션', right_on='반납스테이션' , \n",
    "                                              how='left')\n",
    "tashu_2020_station.head()"
   ]
  },
  {
   "cell_type": "code",
   "execution_count": 20,
   "metadata": {},
   "outputs": [
    {
     "data": {
      "text/html": [
       "<div>\n",
       "<style scoped>\n",
       "    .dataframe tbody tr th:only-of-type {\n",
       "        vertical-align: middle;\n",
       "    }\n",
       "\n",
       "    .dataframe tbody tr th {\n",
       "        vertical-align: top;\n",
       "    }\n",
       "\n",
       "    .dataframe thead th {\n",
       "        text-align: right;\n",
       "    }\n",
       "</style>\n",
       "<table border=\"1\" class=\"dataframe\">\n",
       "  <thead>\n",
       "    <tr style=\"text-align: right;\">\n",
       "      <th></th>\n",
       "      <th>대여스테이션</th>\n",
       "      <th>대여일시</th>\n",
       "      <th>반납스테이션</th>\n",
       "      <th>반납일시</th>\n",
       "      <th>이동거리</th>\n",
       "      <th>회원구분</th>\n",
       "      <th>대여스테이션_이름</th>\n",
       "      <th>반납스테이션_이름</th>\n",
       "    </tr>\n",
       "  </thead>\n",
       "  <tbody>\n",
       "    <tr>\n",
       "      <th>345693</th>\n",
       "      <td>1</td>\n",
       "      <td>20200101171905</td>\n",
       "      <td>1</td>\n",
       "      <td>20200101172034</td>\n",
       "      <td>10.0</td>\n",
       "      <td>2</td>\n",
       "      <td>무역전시관입구(택시승강장)</td>\n",
       "      <td>무역전시관입구(택시승강장)</td>\n",
       "    </tr>\n",
       "    <tr>\n",
       "      <th>345698</th>\n",
       "      <td>1</td>\n",
       "      <td>20200102222355</td>\n",
       "      <td>1</td>\n",
       "      <td>20200102225605</td>\n",
       "      <td>1190.0</td>\n",
       "      <td>2</td>\n",
       "      <td>무역전시관입구(택시승강장)</td>\n",
       "      <td>무역전시관입구(택시승강장)</td>\n",
       "    </tr>\n",
       "    <tr>\n",
       "      <th>345699</th>\n",
       "      <td>1</td>\n",
       "      <td>20200102222757</td>\n",
       "      <td>1</td>\n",
       "      <td>20200102225557</td>\n",
       "      <td>1180.0</td>\n",
       "      <td>2</td>\n",
       "      <td>무역전시관입구(택시승강장)</td>\n",
       "      <td>무역전시관입구(택시승강장)</td>\n",
       "    </tr>\n",
       "    <tr>\n",
       "      <th>345700</th>\n",
       "      <td>1</td>\n",
       "      <td>20200102222940</td>\n",
       "      <td>1</td>\n",
       "      <td>20200102225622</td>\n",
       "      <td>1260.0</td>\n",
       "      <td>2</td>\n",
       "      <td>무역전시관입구(택시승강장)</td>\n",
       "      <td>무역전시관입구(택시승강장)</td>\n",
       "    </tr>\n",
       "    <tr>\n",
       "      <th>345701</th>\n",
       "      <td>1</td>\n",
       "      <td>20200102223152</td>\n",
       "      <td>1</td>\n",
       "      <td>20200102225554</td>\n",
       "      <td>1130.0</td>\n",
       "      <td>2</td>\n",
       "      <td>무역전시관입구(택시승강장)</td>\n",
       "      <td>무역전시관입구(택시승강장)</td>\n",
       "    </tr>\n",
       "    <tr>\n",
       "      <th>...</th>\n",
       "      <td>...</td>\n",
       "      <td>...</td>\n",
       "      <td>...</td>\n",
       "      <td>...</td>\n",
       "      <td>...</td>\n",
       "      <td>...</td>\n",
       "      <td>...</td>\n",
       "      <td>...</td>\n",
       "    </tr>\n",
       "    <tr>\n",
       "      <th>354867</th>\n",
       "      <td>99</td>\n",
       "      <td>20201026073135</td>\n",
       "      <td>&lt;NA&gt;</td>\n",
       "      <td>20201026075501</td>\n",
       "      <td>NaN</td>\n",
       "      <td>2</td>\n",
       "      <td>홈플러스 가오점(건너편)</td>\n",
       "      <td>NaN</td>\n",
       "    </tr>\n",
       "    <tr>\n",
       "      <th>354876</th>\n",
       "      <td>99</td>\n",
       "      <td>20201028221855</td>\n",
       "      <td>&lt;NA&gt;</td>\n",
       "      <td>20201029001614</td>\n",
       "      <td>NaN</td>\n",
       "      <td>2</td>\n",
       "      <td>홈플러스 가오점(건너편)</td>\n",
       "      <td>NaN</td>\n",
       "    </tr>\n",
       "    <tr>\n",
       "      <th>354958</th>\n",
       "      <td>99</td>\n",
       "      <td>20201122134417</td>\n",
       "      <td>&lt;NA&gt;</td>\n",
       "      <td>20201122173001</td>\n",
       "      <td>NaN</td>\n",
       "      <td>1</td>\n",
       "      <td>홈플러스 가오점(건너편)</td>\n",
       "      <td>NaN</td>\n",
       "    </tr>\n",
       "    <tr>\n",
       "      <th>354962</th>\n",
       "      <td>99</td>\n",
       "      <td>20201123234008</td>\n",
       "      <td>&lt;NA&gt;</td>\n",
       "      <td>20201123234611</td>\n",
       "      <td>NaN</td>\n",
       "      <td>0</td>\n",
       "      <td>홈플러스 가오점(건너편)</td>\n",
       "      <td>NaN</td>\n",
       "    </tr>\n",
       "    <tr>\n",
       "      <th>354990</th>\n",
       "      <td>99</td>\n",
       "      <td>20201207194847</td>\n",
       "      <td>&lt;NA&gt;</td>\n",
       "      <td>20201207214037</td>\n",
       "      <td>NaN</td>\n",
       "      <td>2</td>\n",
       "      <td>홈플러스 가오점(건너편)</td>\n",
       "      <td>NaN</td>\n",
       "    </tr>\n",
       "  </tbody>\n",
       "</table>\n",
       "<p>604446 rows × 8 columns</p>\n",
       "</div>"
      ],
      "text/plain": [
       "       대여스테이션            대여일시 반납스테이션            반납일시    이동거리  회원구분  \\\n",
       "345693      1  20200101171905      1  20200101172034    10.0     2   \n",
       "345698      1  20200102222355      1  20200102225605  1190.0     2   \n",
       "345699      1  20200102222757      1  20200102225557  1180.0     2   \n",
       "345700      1  20200102222940      1  20200102225622  1260.0     2   \n",
       "345701      1  20200102223152      1  20200102225554  1130.0     2   \n",
       "...       ...             ...    ...             ...     ...   ...   \n",
       "354867     99  20201026073135   <NA>  20201026075501     NaN     2   \n",
       "354876     99  20201028221855   <NA>  20201029001614     NaN     2   \n",
       "354958     99  20201122134417   <NA>  20201122173001     NaN     1   \n",
       "354962     99  20201123234008   <NA>  20201123234611     NaN     0   \n",
       "354990     99  20201207194847   <NA>  20201207214037     NaN     2   \n",
       "\n",
       "             대여스테이션_이름       반납스테이션_이름  \n",
       "345693  무역전시관입구(택시승강장)  무역전시관입구(택시승강장)  \n",
       "345698  무역전시관입구(택시승강장)  무역전시관입구(택시승강장)  \n",
       "345699  무역전시관입구(택시승강장)  무역전시관입구(택시승강장)  \n",
       "345700  무역전시관입구(택시승강장)  무역전시관입구(택시승강장)  \n",
       "345701  무역전시관입구(택시승강장)  무역전시관입구(택시승강장)  \n",
       "...                ...             ...  \n",
       "354867   홈플러스 가오점(건너편)             NaN  \n",
       "354876   홈플러스 가오점(건너편)             NaN  \n",
       "354958   홈플러스 가오점(건너편)             NaN  \n",
       "354962   홈플러스 가오점(건너편)             NaN  \n",
       "354990   홈플러스 가오점(건너편)             NaN  \n",
       "\n",
       "[604446 rows x 8 columns]"
      ]
     },
     "execution_count": 20,
     "metadata": {},
     "output_type": "execute_result"
    }
   ],
   "source": [
    "tashu_2020_station.sort_values(['반납스테이션','대여스테이션'])"
   ]
  },
  {
   "cell_type": "code",
   "execution_count": null,
   "metadata": {},
   "outputs": [],
   "source": []
  },
  {
   "cell_type": "code",
   "execution_count": 21,
   "metadata": {},
   "outputs": [],
   "source": [
    "### 회원구분 값 \n",
    "idx= tashu_2020_station['회원구분'].astype('int')"
   ]
  },
  {
   "cell_type": "code",
   "execution_count": 22,
   "metadata": {},
   "outputs": [
    {
     "data": {
      "text/plain": [
       "0         2\n",
       "1         2\n",
       "2         2\n",
       "3         2\n",
       "4         2\n",
       "         ..\n",
       "604441    1\n",
       "604442    2\n",
       "604443    2\n",
       "604444    1\n",
       "604445    0\n",
       "Name: 회원구분, Length: 604446, dtype: int32"
      ]
     },
     "execution_count": 22,
     "metadata": {},
     "output_type": "execute_result"
    }
   ],
   "source": [
    "idx"
   ]
  },
  {
   "cell_type": "code",
   "execution_count": 23,
   "metadata": {},
   "outputs": [
    {
     "data": {
      "text/plain": [
       "'비회원'"
      ]
     },
     "execution_count": 23,
     "metadata": {},
     "output_type": "execute_result"
    }
   ],
   "source": [
    "### 회원구분 수준 \n",
    "col_levels = {0:'정회원',1:'일반회원', 2:'비회원'}\n",
    "col_levels[2]"
   ]
  },
  {
   "cell_type": "code",
   "execution_count": 24,
   "metadata": {},
   "outputs": [],
   "source": [
    "### 변수 생성\n",
    "tashu_2020_station['회원구분2'] = [col_levels[i] for i in idx]"
   ]
  },
  {
   "cell_type": "code",
   "execution_count": 25,
   "metadata": {},
   "outputs": [
    {
     "data": {
      "text/html": [
       "<div>\n",
       "<style scoped>\n",
       "    .dataframe tbody tr th:only-of-type {\n",
       "        vertical-align: middle;\n",
       "    }\n",
       "\n",
       "    .dataframe tbody tr th {\n",
       "        vertical-align: top;\n",
       "    }\n",
       "\n",
       "    .dataframe thead th {\n",
       "        text-align: right;\n",
       "    }\n",
       "</style>\n",
       "<table border=\"1\" class=\"dataframe\">\n",
       "  <thead>\n",
       "    <tr style=\"text-align: right;\">\n",
       "      <th></th>\n",
       "      <th>대여스테이션</th>\n",
       "      <th>대여일시</th>\n",
       "      <th>반납스테이션</th>\n",
       "      <th>반납일시</th>\n",
       "      <th>이동거리</th>\n",
       "      <th>회원구분</th>\n",
       "      <th>대여스테이션_이름</th>\n",
       "      <th>반납스테이션_이름</th>\n",
       "      <th>회원구분2</th>\n",
       "    </tr>\n",
       "  </thead>\n",
       "  <tbody>\n",
       "    <tr>\n",
       "      <th>0</th>\n",
       "      <td>174</td>\n",
       "      <td>20200101000100</td>\n",
       "      <td>224</td>\n",
       "      <td>20200101001137</td>\n",
       "      <td>640.0</td>\n",
       "      <td>2</td>\n",
       "      <td>가수원네거리(전통시장 입구)</td>\n",
       "      <td>정림삼거리</td>\n",
       "      <td>비회원</td>\n",
       "    </tr>\n",
       "    <tr>\n",
       "      <th>1</th>\n",
       "      <td>174</td>\n",
       "      <td>20200101000109</td>\n",
       "      <td>224</td>\n",
       "      <td>20200101001210</td>\n",
       "      <td>640.0</td>\n",
       "      <td>2</td>\n",
       "      <td>가수원네거리(전통시장 입구)</td>\n",
       "      <td>정림삼거리</td>\n",
       "      <td>비회원</td>\n",
       "    </tr>\n",
       "    <tr>\n",
       "      <th>2</th>\n",
       "      <td>174</td>\n",
       "      <td>20200101233236</td>\n",
       "      <td>175</td>\n",
       "      <td>20200101234225</td>\n",
       "      <td>800.0</td>\n",
       "      <td>2</td>\n",
       "      <td>가수원네거리(전통시장 입구)</td>\n",
       "      <td>건양대네거리</td>\n",
       "      <td>비회원</td>\n",
       "    </tr>\n",
       "  </tbody>\n",
       "</table>\n",
       "</div>"
      ],
      "text/plain": [
       "  대여스테이션            대여일시 반납스테이션            반납일시   이동거리  회원구분        대여스테이션_이름  \\\n",
       "0    174  20200101000100    224  20200101001137  640.0     2  가수원네거리(전통시장 입구)   \n",
       "1    174  20200101000109    224  20200101001210  640.0     2  가수원네거리(전통시장 입구)   \n",
       "2    174  20200101233236    175  20200101234225  800.0     2  가수원네거리(전통시장 입구)   \n",
       "\n",
       "  반납스테이션_이름 회원구분2  \n",
       "0     정림삼거리   비회원  \n",
       "1     정림삼거리   비회원  \n",
       "2    건양대네거리   비회원  "
      ]
     },
     "execution_count": 25,
     "metadata": {},
     "output_type": "execute_result"
    }
   ],
   "source": [
    "tashu_2020_station.head(3)"
   ]
  },
  {
   "cell_type": "code",
   "execution_count": 143,
   "metadata": {},
   "outputs": [
    {
     "data": {
      "text/html": [
       "<div>\n",
       "<style scoped>\n",
       "    .dataframe tbody tr th:only-of-type {\n",
       "        vertical-align: middle;\n",
       "    }\n",
       "\n",
       "    .dataframe tbody tr th {\n",
       "        vertical-align: top;\n",
       "    }\n",
       "\n",
       "    .dataframe thead th {\n",
       "        text-align: right;\n",
       "    }\n",
       "</style>\n",
       "<table border=\"1\" class=\"dataframe\">\n",
       "  <thead>\n",
       "    <tr style=\"text-align: right;\">\n",
       "      <th></th>\n",
       "      <th>대여스테이션</th>\n",
       "      <th>대여일시</th>\n",
       "      <th>반납스테이션</th>\n",
       "      <th>반납일시</th>\n",
       "      <th>이동거리</th>\n",
       "      <th>회원구분</th>\n",
       "      <th>대여스테이션_이름</th>\n",
       "      <th>반납스테이션_이름</th>\n",
       "      <th>회원구분2</th>\n",
       "    </tr>\n",
       "  </thead>\n",
       "  <tbody>\n",
       "    <tr>\n",
       "      <th>count</th>\n",
       "      <td>604446</td>\n",
       "      <td>6.044460e+05</td>\n",
       "      <td>595778</td>\n",
       "      <td>6.044460e+05</td>\n",
       "      <td>595857.000000</td>\n",
       "      <td>604446.000000</td>\n",
       "      <td>604446</td>\n",
       "      <td>595778</td>\n",
       "      <td>604446</td>\n",
       "    </tr>\n",
       "    <tr>\n",
       "      <th>unique</th>\n",
       "      <td>262</td>\n",
       "      <td>NaN</td>\n",
       "      <td>262</td>\n",
       "      <td>NaN</td>\n",
       "      <td>NaN</td>\n",
       "      <td>NaN</td>\n",
       "      <td>262</td>\n",
       "      <td>262</td>\n",
       "      <td>3</td>\n",
       "    </tr>\n",
       "    <tr>\n",
       "      <th>top</th>\n",
       "      <td>3</td>\n",
       "      <td>NaN</td>\n",
       "      <td>3</td>\n",
       "      <td>NaN</td>\n",
       "      <td>NaN</td>\n",
       "      <td>NaN</td>\n",
       "      <td>한밭수목원1</td>\n",
       "      <td>한밭수목원1</td>\n",
       "      <td>비회원</td>\n",
       "    </tr>\n",
       "    <tr>\n",
       "      <th>freq</th>\n",
       "      <td>25476</td>\n",
       "      <td>NaN</td>\n",
       "      <td>27709</td>\n",
       "      <td>NaN</td>\n",
       "      <td>NaN</td>\n",
       "      <td>NaN</td>\n",
       "      <td>25476</td>\n",
       "      <td>27709</td>\n",
       "      <td>388611</td>\n",
       "    </tr>\n",
       "    <tr>\n",
       "      <th>mean</th>\n",
       "      <td>NaN</td>\n",
       "      <td>2.020068e+13</td>\n",
       "      <td>NaN</td>\n",
       "      <td>2.020068e+13</td>\n",
       "      <td>1654.610620</td>\n",
       "      <td>1.445151</td>\n",
       "      <td>NaN</td>\n",
       "      <td>NaN</td>\n",
       "      <td>NaN</td>\n",
       "    </tr>\n",
       "    <tr>\n",
       "      <th>std</th>\n",
       "      <td>NaN</td>\n",
       "      <td>2.918724e+08</td>\n",
       "      <td>NaN</td>\n",
       "      <td>2.931282e+08</td>\n",
       "      <td>1446.016779</td>\n",
       "      <td>0.801581</td>\n",
       "      <td>NaN</td>\n",
       "      <td>NaN</td>\n",
       "      <td>NaN</td>\n",
       "    </tr>\n",
       "    <tr>\n",
       "      <th>min</th>\n",
       "      <td>NaN</td>\n",
       "      <td>2.020010e+13</td>\n",
       "      <td>NaN</td>\n",
       "      <td>2.020010e+13</td>\n",
       "      <td>0.000000</td>\n",
       "      <td>0.000000</td>\n",
       "      <td>NaN</td>\n",
       "      <td>NaN</td>\n",
       "      <td>NaN</td>\n",
       "    </tr>\n",
       "    <tr>\n",
       "      <th>25%</th>\n",
       "      <td>NaN</td>\n",
       "      <td>2.020042e+13</td>\n",
       "      <td>NaN</td>\n",
       "      <td>2.020042e+13</td>\n",
       "      <td>530.000000</td>\n",
       "      <td>1.000000</td>\n",
       "      <td>NaN</td>\n",
       "      <td>NaN</td>\n",
       "      <td>NaN</td>\n",
       "    </tr>\n",
       "    <tr>\n",
       "      <th>50%</th>\n",
       "      <td>NaN</td>\n",
       "      <td>2.020063e+13</td>\n",
       "      <td>NaN</td>\n",
       "      <td>2.020063e+13</td>\n",
       "      <td>1290.000000</td>\n",
       "      <td>2.000000</td>\n",
       "      <td>NaN</td>\n",
       "      <td>NaN</td>\n",
       "      <td>NaN</td>\n",
       "    </tr>\n",
       "    <tr>\n",
       "      <th>75%</th>\n",
       "      <td>NaN</td>\n",
       "      <td>2.020092e+13</td>\n",
       "      <td>NaN</td>\n",
       "      <td>2.020092e+13</td>\n",
       "      <td>2560.000000</td>\n",
       "      <td>2.000000</td>\n",
       "      <td>NaN</td>\n",
       "      <td>NaN</td>\n",
       "      <td>NaN</td>\n",
       "    </tr>\n",
       "    <tr>\n",
       "      <th>max</th>\n",
       "      <td>NaN</td>\n",
       "      <td>2.020123e+13</td>\n",
       "      <td>NaN</td>\n",
       "      <td>2.021010e+13</td>\n",
       "      <td>5630.000000</td>\n",
       "      <td>2.000000</td>\n",
       "      <td>NaN</td>\n",
       "      <td>NaN</td>\n",
       "      <td>NaN</td>\n",
       "    </tr>\n",
       "  </tbody>\n",
       "</table>\n",
       "</div>"
      ],
      "text/plain": [
       "        대여스테이션          대여일시  반납스테이션          반납일시           이동거리  \\\n",
       "count   604446  6.044460e+05  595778  6.044460e+05  595857.000000   \n",
       "unique     262           NaN     262           NaN            NaN   \n",
       "top          3           NaN       3           NaN            NaN   \n",
       "freq     25476           NaN   27709           NaN            NaN   \n",
       "mean       NaN  2.020068e+13     NaN  2.020068e+13    1654.610620   \n",
       "std        NaN  2.918724e+08     NaN  2.931282e+08    1446.016779   \n",
       "min        NaN  2.020010e+13     NaN  2.020010e+13       0.000000   \n",
       "25%        NaN  2.020042e+13     NaN  2.020042e+13     530.000000   \n",
       "50%        NaN  2.020063e+13     NaN  2.020063e+13    1290.000000   \n",
       "75%        NaN  2.020092e+13     NaN  2.020092e+13    2560.000000   \n",
       "max        NaN  2.020123e+13     NaN  2.021010e+13    5630.000000   \n",
       "\n",
       "                 회원구분 대여스테이션_이름 반납스테이션_이름   회원구분2  \n",
       "count   604446.000000    604446    595778  604446  \n",
       "unique            NaN       262       262       3  \n",
       "top               NaN    한밭수목원1    한밭수목원1     비회원  \n",
       "freq              NaN     25476     27709  388611  \n",
       "mean         1.445151       NaN       NaN     NaN  \n",
       "std          0.801581       NaN       NaN     NaN  \n",
       "min          0.000000       NaN       NaN     NaN  \n",
       "25%          1.000000       NaN       NaN     NaN  \n",
       "50%          2.000000       NaN       NaN     NaN  \n",
       "75%          2.000000       NaN       NaN     NaN  \n",
       "max          2.000000       NaN       NaN     NaN  "
      ]
     },
     "execution_count": 143,
     "metadata": {},
     "output_type": "execute_result"
    }
   ],
   "source": [
    "## 기술통계량\n",
    "tashu_2020_station.describe(include='all')"
   ]
  },
  {
   "cell_type": "code",
   "execution_count": null,
   "metadata": {},
   "outputs": [],
   "source": []
  },
  {
   "cell_type": "markdown",
   "metadata": {},
   "source": [
    "# 그래프 그리기"
   ]
  },
  {
   "cell_type": "code",
   "execution_count": 26,
   "metadata": {},
   "outputs": [],
   "source": [
    "from matplotlib import pyplot as plt"
   ]
  },
  {
   "cell_type": "code",
   "execution_count": 27,
   "metadata": {},
   "outputs": [],
   "source": [
    "# 그래프 한글 표시 \n",
    "plt.rcParams['font.family'] = 'Gulim'\n",
    "# 스타일\n",
    "plt.style.use('ggplot')"
   ]
  },
  {
   "cell_type": "code",
   "execution_count": 28,
   "metadata": {},
   "outputs": [],
   "source": [
    "import seaborn as sns"
   ]
  },
  {
   "cell_type": "code",
   "execution_count": 155,
   "metadata": {},
   "outputs": [
    {
     "ename": "NameError",
     "evalue": "name 'ggplot' is not defined",
     "output_type": "error",
     "traceback": [
      "\u001b[1;31m---------------------------------------------------------------------------\u001b[0m",
      "\u001b[1;31mNameError\u001b[0m                                 Traceback (most recent call last)",
      "\u001b[1;32m<ipython-input-155-7adb5c20684d>\u001b[0m in \u001b[0;36m<module>\u001b[1;34m\u001b[0m\n\u001b[0;32m      1\u001b[0m \u001b[1;31m#\u001b[0m\u001b[1;33m\u001b[0m\u001b[1;33m\u001b[0m\u001b[1;33m\u001b[0m\u001b[0m\n\u001b[0;32m      2\u001b[0m (\n\u001b[1;32m----> 3\u001b[1;33m     \u001b[0mggplot\u001b[0m\u001b[1;33m(\u001b[0m\u001b[0mmtcars\u001b[0m\u001b[1;33m,\u001b[0m \u001b[0maes\u001b[0m\u001b[1;33m(\u001b[0m\u001b[1;34m'wt'\u001b[0m\u001b[1;33m,\u001b[0m\u001b[1;34m'mpg'\u001b[0m\u001b[1;33m,\u001b[0m\u001b[0mcolor\u001b[0m\u001b[1;33m=\u001b[0m\u001b[1;34m'factor(gear)'\u001b[0m\u001b[1;33m)\u001b[0m\u001b[1;33m)\u001b[0m\u001b[1;33m+\u001b[0m\u001b[1;33m\u001b[0m\u001b[1;33m\u001b[0m\u001b[0m\n\u001b[0m\u001b[0;32m      4\u001b[0m     \u001b[0mgeom_point\u001b[0m\u001b[1;33m(\u001b[0m\u001b[1;33m)\u001b[0m\u001b[1;33m+\u001b[0m\u001b[1;33m\u001b[0m\u001b[1;33m\u001b[0m\u001b[0m\n\u001b[0;32m      5\u001b[0m     \u001b[0mstat_smoooth\u001b[0m\u001b[1;33m(\u001b[0m\u001b[0mmethod\u001b[0m\u001b[1;33m=\u001b[0m\u001b[1;34m'lm'\u001b[0m\u001b[1;33m)\u001b[0m\u001b[1;33m+\u001b[0m\u001b[1;33m\u001b[0m\u001b[1;33m\u001b[0m\u001b[0m\n",
      "\u001b[1;31mNameError\u001b[0m: name 'ggplot' is not defined"
     ]
    }
   ],
   "source": [
    "# r코드를 가로안에 넣어주면 실행\n",
    "(\n",
    "    ggplot(mtcars, aes('wt','mpg',color='factor(gear)'))+\n",
    "    geom_point()+\n",
    "    stat_smoooth(method='lm')+\n",
    "    facet_wrap('gear')\n",
    "\n",
    "\n",
    "\n",
    ")"
   ]
  },
  {
   "cell_type": "code",
   "execution_count": 29,
   "metadata": {},
   "outputs": [],
   "source": [
    "# 타슈 공영자전거 위치 현황\n",
    "tashu_station=pd.read_csv('data/대전광역시_공영자전거(타슈) 위치(위경도) 현황_20200801.csv',encoding='cp949')"
   ]
  },
  {
   "cell_type": "code",
   "execution_count": 30,
   "metadata": {},
   "outputs": [
    {
     "data": {
      "text/html": [
       "<div>\n",
       "<style scoped>\n",
       "    .dataframe tbody tr th:only-of-type {\n",
       "        vertical-align: middle;\n",
       "    }\n",
       "\n",
       "    .dataframe tbody tr th {\n",
       "        vertical-align: top;\n",
       "    }\n",
       "\n",
       "    .dataframe thead th {\n",
       "        text-align: right;\n",
       "    }\n",
       "</style>\n",
       "<table border=\"1\" class=\"dataframe\">\n",
       "  <thead>\n",
       "    <tr style=\"text-align: right;\">\n",
       "      <th></th>\n",
       "      <th>Freq</th>\n",
       "    </tr>\n",
       "    <tr>\n",
       "      <th>시군구명</th>\n",
       "      <th></th>\n",
       "    </tr>\n",
       "  </thead>\n",
       "  <tbody>\n",
       "    <tr>\n",
       "      <th>대덕구</th>\n",
       "      <td>38</td>\n",
       "    </tr>\n",
       "    <tr>\n",
       "      <th>동구</th>\n",
       "      <td>36</td>\n",
       "    </tr>\n",
       "    <tr>\n",
       "      <th>서구</th>\n",
       "      <td>73</td>\n",
       "    </tr>\n",
       "    <tr>\n",
       "      <th>유성구</th>\n",
       "      <td>76</td>\n",
       "    </tr>\n",
       "    <tr>\n",
       "      <th>중구</th>\n",
       "      <td>39</td>\n",
       "    </tr>\n",
       "  </tbody>\n",
       "</table>\n",
       "</div>"
      ],
      "text/plain": [
       "      Freq\n",
       "시군구명      \n",
       "대덕구     38\n",
       "동구      36\n",
       "서구      73\n",
       "유성구     76\n",
       "중구      39"
      ]
     },
     "execution_count": 30,
     "metadata": {},
     "output_type": "execute_result"
    }
   ],
   "source": [
    "# 빈도표\n",
    "tb= pd.crosstab(tashu_station['시군구명'],'Freq',colnames=[''])\n",
    "tb"
   ]
  },
  {
   "cell_type": "code",
   "execution_count": 31,
   "metadata": {},
   "outputs": [
    {
     "data": {
      "text/html": [
       "<div>\n",
       "<style scoped>\n",
       "    .dataframe tbody tr th:only-of-type {\n",
       "        vertical-align: middle;\n",
       "    }\n",
       "\n",
       "    .dataframe tbody tr th {\n",
       "        vertical-align: top;\n",
       "    }\n",
       "\n",
       "    .dataframe thead th {\n",
       "        text-align: right;\n",
       "    }\n",
       "</style>\n",
       "<table border=\"1\" class=\"dataframe\">\n",
       "  <thead>\n",
       "    <tr style=\"text-align: right;\">\n",
       "      <th></th>\n",
       "      <th>시군구명</th>\n",
       "    </tr>\n",
       "  </thead>\n",
       "  <tbody>\n",
       "    <tr>\n",
       "      <th>유성구</th>\n",
       "      <td>76</td>\n",
       "    </tr>\n",
       "    <tr>\n",
       "      <th>서구</th>\n",
       "      <td>73</td>\n",
       "    </tr>\n",
       "    <tr>\n",
       "      <th>중구</th>\n",
       "      <td>39</td>\n",
       "    </tr>\n",
       "    <tr>\n",
       "      <th>대덕구</th>\n",
       "      <td>38</td>\n",
       "    </tr>\n",
       "    <tr>\n",
       "      <th>동구</th>\n",
       "      <td>36</td>\n",
       "    </tr>\n",
       "  </tbody>\n",
       "</table>\n",
       "</div>"
      ],
      "text/plain": [
       "     시군구명\n",
       "유성구    76\n",
       "서구     73\n",
       "중구     39\n",
       "대덕구    38\n",
       "동구     36"
      ]
     },
     "execution_count": 31,
     "metadata": {},
     "output_type": "execute_result"
    }
   ],
   "source": [
    "pd.DataFrame(tashu_station['시군구명'].value_counts())"
   ]
  },
  {
   "cell_type": "code",
   "execution_count": 32,
   "metadata": {},
   "outputs": [
    {
     "data": {
      "text/html": [
       "<div>\n",
       "<style scoped>\n",
       "    .dataframe tbody tr th:only-of-type {\n",
       "        vertical-align: middle;\n",
       "    }\n",
       "\n",
       "    .dataframe tbody tr th {\n",
       "        vertical-align: top;\n",
       "    }\n",
       "\n",
       "    .dataframe thead th {\n",
       "        text-align: right;\n",
       "    }\n",
       "</style>\n",
       "<table border=\"1\" class=\"dataframe\">\n",
       "  <thead>\n",
       "    <tr style=\"text-align: right;\">\n",
       "      <th></th>\n",
       "      <th>Freq</th>\n",
       "    </tr>\n",
       "    <tr>\n",
       "      <th>시군구명</th>\n",
       "      <th></th>\n",
       "    </tr>\n",
       "  </thead>\n",
       "  <tbody>\n",
       "    <tr>\n",
       "      <th>유성구</th>\n",
       "      <td>76</td>\n",
       "    </tr>\n",
       "    <tr>\n",
       "      <th>서구</th>\n",
       "      <td>73</td>\n",
       "    </tr>\n",
       "    <tr>\n",
       "      <th>중구</th>\n",
       "      <td>39</td>\n",
       "    </tr>\n",
       "    <tr>\n",
       "      <th>대덕구</th>\n",
       "      <td>38</td>\n",
       "    </tr>\n",
       "    <tr>\n",
       "      <th>동구</th>\n",
       "      <td>36</td>\n",
       "    </tr>\n",
       "  </tbody>\n",
       "</table>\n",
       "</div>"
      ],
      "text/plain": [
       "      Freq\n",
       "시군구명      \n",
       "유성구     76\n",
       "서구      73\n",
       "중구      39\n",
       "대덕구     38\n",
       "동구      36"
      ]
     },
     "execution_count": 32,
     "metadata": {},
     "output_type": "execute_result"
    }
   ],
   "source": [
    "# 빈도표 - 내림차순 정렬\n",
    "tb_sort= tb.sort_values('Freq',ascending=False)\n",
    "tb_sort"
   ]
  },
  {
   "cell_type": "code",
   "execution_count": 33,
   "metadata": {},
   "outputs": [
    {
     "data": {
      "image/png": "[encoded data removed]",
      "text/plain": [
       "<Figure size 432x288 with 1 Axes>"
      ]
     },
     "metadata": {},
     "output_type": "display_data"
    }
   ],
   "source": [
    "# 막대그래프 - 수직(기본)\n",
    "ax= tb.plot.bar(rot=0) # rot : x축 라벨 똑바로"
   ]
  },
  {
   "cell_type": "code",
   "execution_count": null,
   "metadata": {},
   "outputs": [],
   "source": []
  },
  {
   "cell_type": "code",
   "execution_count": 34,
   "metadata": {},
   "outputs": [
    {
     "data": {
      "image/png": "[encoded data removed]",
      "text/plain": [
       "<Figure size 432x288 with 1 Axes>"
      ]
     },
     "metadata": {},
     "output_type": "display_data"
    }
   ],
   "source": [
    "### 막대 그래프 - 수직(디자인)\n",
    "ax = tb_sort.plot.bar(rot=0, color=\"royalblue\")  # 색상\n",
    "ax.set_title(\"타슈 스테이션 현황\")               # 제목\n",
    "ax.set_xlabel(\"\")                                # x축 이름\n",
    "ax.set_ylabel(\"스테이션 수\")                     # y축 이름\n",
    "ax.legend().remove()                             # 범례 제거\n",
    "ax.set_facecolor('white')                        # 배경색\n",
    "ax.grid(True, axis='y', color=\"silver\")         # 눈금선(y축)\n",
    "ax.tick_params(left = False, bottom = False)   # 눈금 제거\n",
    "ax.spines['bottom'].set_color('black')           # x축 표시\n",
    "plt.show()\n"
   ]
  },
  {
   "cell_type": "code",
   "execution_count": 35,
   "metadata": {},
   "outputs": [
    {
     "data": {
      "image/png": "[encoded data removed]",
      "text/plain": [
       "<Figure size 432x288 with 1 Axes>"
      ]
     },
     "metadata": {},
     "output_type": "display_data"
    }
   ],
   "source": [
    "# 막대그래프 - 수평(기본)\n",
    "tb_sort_asc = tb.sort_values('Freq',ascending = True)\n",
    "ax=tb_sort_asc.plot.barh()"
   ]
  },
  {
   "cell_type": "code",
   "execution_count": null,
   "metadata": {},
   "outputs": [],
   "source": []
  },
  {
   "cell_type": "code",
   "execution_count": null,
   "metadata": {},
   "outputs": [],
   "source": []
  },
  {
   "cell_type": "code",
   "execution_count": 36,
   "metadata": {},
   "outputs": [],
   "source": [
    "# 딴짓함."
   ]
  },
  {
   "cell_type": "code",
   "execution_count": 37,
   "metadata": {},
   "outputs": [
    {
     "data": {
      "image/png": "[encoded data removed]",
      "text/plain": [
       "<Figure size 432x288 with 1 Axes>"
      ]
     },
     "metadata": {},
     "output_type": "display_data"
    }
   ],
   "source": [
    "# 막대그래프 - 수평(기본) / \n",
    "tb_sort_asc = tb.sort_values('Freq',ascending= True) # 오름차순\n",
    "ax=tb_sort_asc.plot.barh()\n",
    "plt.show()"
   ]
  },
  {
   "cell_type": "code",
   "execution_count": 38,
   "metadata": {},
   "outputs": [
    {
     "data": {
      "image/png": "[encoded data removed]",
      "text/plain": [
       "<Figure size 432x432 with 1 Axes>"
      ]
     },
     "metadata": {},
     "output_type": "display_data"
    }
   ],
   "source": [
    "# 원그래프\n",
    "ax= tb_sort_asc.plot.pie(y='Freq',figsize=(6,6),fontsize=12)"
   ]
  },
  {
   "cell_type": "code",
   "execution_count": 39,
   "metadata": {},
   "outputs": [
    {
     "data": {
      "image/png": "[encoded data removed]",
      "text/plain": [
       "<Figure size 432x432 with 1 Axes>"
      ]
     },
     "metadata": {},
     "output_type": "display_data"
    }
   ],
   "source": [
    "# 원그래프 - 퍼센트\n",
    "ax= tb_sort_asc.plot.pie(y='Freq',figsize=(6,6),fontsize=12,\n",
    "                        startangle=90, autopct = '%.1f%%')\n",
    "ax.legend().remove() # 레전드 없애기\n",
    "ax.set_ylabel(\"\")\n",
    "plt.show()"
   ]
  },
  {
   "cell_type": "code",
   "execution_count": 40,
   "metadata": {},
   "outputs": [
    {
     "data": {
      "text/html": [
       "<div>\n",
       "<style scoped>\n",
       "    .dataframe tbody tr th:only-of-type {\n",
       "        vertical-align: middle;\n",
       "    }\n",
       "\n",
       "    .dataframe tbody tr th {\n",
       "        vertical-align: top;\n",
       "    }\n",
       "\n",
       "    .dataframe thead th {\n",
       "        text-align: right;\n",
       "    }\n",
       "</style>\n",
       "<table border=\"1\" class=\"dataframe\">\n",
       "  <thead>\n",
       "    <tr style=\"text-align: right;\">\n",
       "      <th></th>\n",
       "      <th>대여스테이션</th>\n",
       "      <th>대여일시</th>\n",
       "      <th>반납스테이션</th>\n",
       "      <th>반납일시</th>\n",
       "      <th>이동거리</th>\n",
       "      <th>회원구분</th>\n",
       "      <th>대여스테이션_이름</th>\n",
       "      <th>반납스테이션_이름</th>\n",
       "      <th>회원구분2</th>\n",
       "    </tr>\n",
       "  </thead>\n",
       "  <tbody>\n",
       "    <tr>\n",
       "      <th>0</th>\n",
       "      <td>174</td>\n",
       "      <td>20200101000100</td>\n",
       "      <td>224</td>\n",
       "      <td>20200101001137</td>\n",
       "      <td>640.0</td>\n",
       "      <td>2</td>\n",
       "      <td>가수원네거리(전통시장 입구)</td>\n",
       "      <td>정림삼거리</td>\n",
       "      <td>비회원</td>\n",
       "    </tr>\n",
       "    <tr>\n",
       "      <th>1</th>\n",
       "      <td>174</td>\n",
       "      <td>20200101000109</td>\n",
       "      <td>224</td>\n",
       "      <td>20200101001210</td>\n",
       "      <td>640.0</td>\n",
       "      <td>2</td>\n",
       "      <td>가수원네거리(전통시장 입구)</td>\n",
       "      <td>정림삼거리</td>\n",
       "      <td>비회원</td>\n",
       "    </tr>\n",
       "    <tr>\n",
       "      <th>2</th>\n",
       "      <td>174</td>\n",
       "      <td>20200101233236</td>\n",
       "      <td>175</td>\n",
       "      <td>20200101234225</td>\n",
       "      <td>800.0</td>\n",
       "      <td>2</td>\n",
       "      <td>가수원네거리(전통시장 입구)</td>\n",
       "      <td>건양대네거리</td>\n",
       "      <td>비회원</td>\n",
       "    </tr>\n",
       "    <tr>\n",
       "      <th>3</th>\n",
       "      <td>174</td>\n",
       "      <td>20200101233237</td>\n",
       "      <td>175</td>\n",
       "      <td>20200101234236</td>\n",
       "      <td>800.0</td>\n",
       "      <td>2</td>\n",
       "      <td>가수원네거리(전통시장 입구)</td>\n",
       "      <td>건양대네거리</td>\n",
       "      <td>비회원</td>\n",
       "    </tr>\n",
       "    <tr>\n",
       "      <th>4</th>\n",
       "      <td>174</td>\n",
       "      <td>20200102202221</td>\n",
       "      <td>253</td>\n",
       "      <td>20200102205546</td>\n",
       "      <td>2360.0</td>\n",
       "      <td>2</td>\n",
       "      <td>가수원네거리(전통시장 입구)</td>\n",
       "      <td>가수원파출소(건너편)</td>\n",
       "      <td>비회원</td>\n",
       "    </tr>\n",
       "    <tr>\n",
       "      <th>...</th>\n",
       "      <td>...</td>\n",
       "      <td>...</td>\n",
       "      <td>...</td>\n",
       "      <td>...</td>\n",
       "      <td>...</td>\n",
       "      <td>...</td>\n",
       "      <td>...</td>\n",
       "      <td>...</td>\n",
       "      <td>...</td>\n",
       "    </tr>\n",
       "    <tr>\n",
       "      <th>604441</th>\n",
       "      <td>262</td>\n",
       "      <td>20201228081026</td>\n",
       "      <td>213</td>\n",
       "      <td>20201228081741</td>\n",
       "      <td>1100.0</td>\n",
       "      <td>1</td>\n",
       "      <td>반석 더샵</td>\n",
       "      <td>송림네거리</td>\n",
       "      <td>일반회원</td>\n",
       "    </tr>\n",
       "    <tr>\n",
       "      <th>604442</th>\n",
       "      <td>262</td>\n",
       "      <td>20201228081548</td>\n",
       "      <td>262</td>\n",
       "      <td>20201228081654</td>\n",
       "      <td>0.0</td>\n",
       "      <td>2</td>\n",
       "      <td>반석 더샵</td>\n",
       "      <td>반석 더샵</td>\n",
       "      <td>비회원</td>\n",
       "    </tr>\n",
       "    <tr>\n",
       "      <th>604443</th>\n",
       "      <td>262</td>\n",
       "      <td>20201228081748</td>\n",
       "      <td>57</td>\n",
       "      <td>20201228084252</td>\n",
       "      <td>3560.0</td>\n",
       "      <td>2</td>\n",
       "      <td>반석 더샵</td>\n",
       "      <td>한진오피스텔</td>\n",
       "      <td>비회원</td>\n",
       "    </tr>\n",
       "    <tr>\n",
       "      <th>604444</th>\n",
       "      <td>262</td>\n",
       "      <td>20201229080732</td>\n",
       "      <td>213</td>\n",
       "      <td>20201229081559</td>\n",
       "      <td>1160.0</td>\n",
       "      <td>1</td>\n",
       "      <td>반석 더샵</td>\n",
       "      <td>송림네거리</td>\n",
       "      <td>일반회원</td>\n",
       "    </tr>\n",
       "    <tr>\n",
       "      <th>604445</th>\n",
       "      <td>262</td>\n",
       "      <td>20201231110839</td>\n",
       "      <td>179</td>\n",
       "      <td>20201231114728</td>\n",
       "      <td>3930.0</td>\n",
       "      <td>0</td>\n",
       "      <td>반석 더샵</td>\n",
       "      <td>반석역 1번출구</td>\n",
       "      <td>정회원</td>\n",
       "    </tr>\n",
       "  </tbody>\n",
       "</table>\n",
       "<p>604446 rows × 9 columns</p>\n",
       "</div>"
      ],
      "text/plain": [
       "       대여스테이션            대여일시 반납스테이션            반납일시    이동거리  회원구분  \\\n",
       "0         174  20200101000100    224  20200101001137   640.0     2   \n",
       "1         174  20200101000109    224  20200101001210   640.0     2   \n",
       "2         174  20200101233236    175  20200101234225   800.0     2   \n",
       "3         174  20200101233237    175  20200101234236   800.0     2   \n",
       "4         174  20200102202221    253  20200102205546  2360.0     2   \n",
       "...       ...             ...    ...             ...     ...   ...   \n",
       "604441    262  20201228081026    213  20201228081741  1100.0     1   \n",
       "604442    262  20201228081548    262  20201228081654     0.0     2   \n",
       "604443    262  20201228081748     57  20201228084252  3560.0     2   \n",
       "604444    262  20201229080732    213  20201229081559  1160.0     1   \n",
       "604445    262  20201231110839    179  20201231114728  3930.0     0   \n",
       "\n",
       "              대여스테이션_이름    반납스테이션_이름 회원구분2  \n",
       "0       가수원네거리(전통시장 입구)        정림삼거리   비회원  \n",
       "1       가수원네거리(전통시장 입구)        정림삼거리   비회원  \n",
       "2       가수원네거리(전통시장 입구)       건양대네거리   비회원  \n",
       "3       가수원네거리(전통시장 입구)       건양대네거리   비회원  \n",
       "4       가수원네거리(전통시장 입구)  가수원파출소(건너편)   비회원  \n",
       "...                 ...          ...   ...  \n",
       "604441            반석 더샵        송림네거리  일반회원  \n",
       "604442            반석 더샵        반석 더샵   비회원  \n",
       "604443            반석 더샵       한진오피스텔   비회원  \n",
       "604444            반석 더샵        송림네거리  일반회원  \n",
       "604445            반석 더샵     반석역 1번출구   정회원  \n",
       "\n",
       "[604446 rows x 9 columns]"
      ]
     },
     "execution_count": 40,
     "metadata": {},
     "output_type": "execute_result"
    }
   ],
   "source": [
    "tashu_2020_station"
   ]
  },
  {
   "cell_type": "markdown",
   "metadata": {},
   "source": [
    "## 2주차 2틀차\n",
    "### 연속형 자료"
   ]
  },
  {
   "cell_type": "code",
   "execution_count": 48,
   "metadata": {},
   "outputs": [
    {
     "data": {
      "text/plain": [
       "(499409, 9)"
      ]
     },
     "execution_count": 48,
     "metadata": {},
     "output_type": "execute_result"
    }
   ],
   "source": [
    "# 올바른 시각화를 위한 데이터 정제\n",
    "\n",
    "# drop missing values\n",
    "df_use = tashu_2020_station.dropna(subset = ['이동거리'])\n",
    "# subset\n",
    "df_use = df_use[df_use['이동거리'] > 0]\n",
    "df_use.shape"
   ]
  },
  {
   "cell_type": "code",
   "execution_count": 41,
   "metadata": {},
   "outputs": [
    {
     "data": {
      "image/png": "[encoded data removed]",
      "text/plain": [
       "<Figure size 432x288 with 1 Axes>"
      ]
     },
     "metadata": {},
     "output_type": "display_data"
    }
   ],
   "source": [
    "ax= tashu_2020_station['이동거리'].plot.hist()"
   ]
  },
  {
   "cell_type": "code",
   "execution_count": 43,
   "metadata": {},
   "outputs": [
    {
     "data": {
      "image/png": "[encoded data removed]",
      "text/plain": [
       "<Figure size 432x288 with 1 Axes>"
      ]
     },
     "metadata": {},
     "output_type": "display_data"
    }
   ],
   "source": [
    "ax= df_use['이동거리'].plot.hist()"
   ]
  },
  {
   "cell_type": "code",
   "execution_count": null,
   "metadata": {},
   "outputs": [],
   "source": []
  },
  {
   "cell_type": "code",
   "execution_count": 49,
   "metadata": {},
   "outputs": [
    {
     "ename": "AttributeError",
     "evalue": "'Rectangle' object has no property 'ciolor'",
     "output_type": "error",
     "traceback": [
      "\u001b[1;31m---------------------------------------------------------------------------\u001b[0m",
      "\u001b[1;31mAttributeError\u001b[0m                            Traceback (most recent call last)",
      "\u001b[1;32m<ipython-input-49-7f1eafe47c97>\u001b[0m in \u001b[0;36m<module>\u001b[1;34m\u001b[0m\n\u001b[0;32m      1\u001b[0m \u001b[1;31m# 히스토그램(디자인)\u001b[0m\u001b[1;33m\u001b[0m\u001b[1;33m\u001b[0m\u001b[1;33m\u001b[0m\u001b[0m\n\u001b[1;32m----> 2\u001b[1;33m \u001b[0max\u001b[0m\u001b[1;33m=\u001b[0m\u001b[0mdf_use\u001b[0m\u001b[1;33m[\u001b[0m\u001b[1;34m'이동거리'\u001b[0m\u001b[1;33m]\u001b[0m\u001b[1;33m.\u001b[0m\u001b[0mplot\u001b[0m\u001b[1;33m.\u001b[0m\u001b[0mhist\u001b[0m\u001b[1;33m(\u001b[0m\u001b[0mbins\u001b[0m\u001b[1;33m=\u001b[0m\u001b[1;36m14\u001b[0m\u001b[1;33m,\u001b[0m\u001b[0mciolor\u001b[0m\u001b[1;33m=\u001b[0m\u001b[1;34m\"royalblue\"\u001b[0m\u001b[1;33m,\u001b[0m\u001b[0medgecolor\u001b[0m\u001b[1;33m=\u001b[0m\u001b[1;34m\"w\"\u001b[0m\u001b[1;33m)\u001b[0m\u001b[1;33m\u001b[0m\u001b[1;33m\u001b[0m\u001b[0m\n\u001b[0m",
      "\u001b[1;32m~\\anaconda3\\lib\\site-packages\\pandas\\plotting\\_core.py\u001b[0m in \u001b[0;36mhist\u001b[1;34m(self, by, bins, **kwargs)\u001b[0m\n\u001b[0;32m   1311\u001b[0m             \u001b[1;33m>>\u001b[0m\u001b[1;33m>\u001b[0m \u001b[0max\u001b[0m \u001b[1;33m=\u001b[0m \u001b[0mdf\u001b[0m\u001b[1;33m.\u001b[0m\u001b[0mplot\u001b[0m\u001b[1;33m.\u001b[0m\u001b[0mhist\u001b[0m\u001b[1;33m(\u001b[0m\u001b[0mbins\u001b[0m\u001b[1;33m=\u001b[0m\u001b[1;36m12\u001b[0m\u001b[1;33m,\u001b[0m \u001b[0malpha\u001b[0m\u001b[1;33m=\u001b[0m\u001b[1;36m0.5\u001b[0m\u001b[1;33m)\u001b[0m\u001b[1;33m\u001b[0m\u001b[1;33m\u001b[0m\u001b[0m\n\u001b[0;32m   1312\u001b[0m         \"\"\"\n\u001b[1;32m-> 1313\u001b[1;33m         \u001b[1;32mreturn\u001b[0m \u001b[0mself\u001b[0m\u001b[1;33m(\u001b[0m\u001b[0mkind\u001b[0m\u001b[1;33m=\u001b[0m\u001b[1;34m\"hist\"\u001b[0m\u001b[1;33m,\u001b[0m \u001b[0mby\u001b[0m\u001b[1;33m=\u001b[0m\u001b[0mby\u001b[0m\u001b[1;33m,\u001b[0m \u001b[0mbins\u001b[0m\u001b[1;33m=\u001b[0m\u001b[0mbins\u001b[0m\u001b[1;33m,\u001b[0m \u001b[1;33m**\u001b[0m\u001b[0mkwargs\u001b[0m\u001b[1;33m)\u001b[0m\u001b[1;33m\u001b[0m\u001b[1;33m\u001b[0m\u001b[0m\n\u001b[0m\u001b[0;32m   1314\u001b[0m \u001b[1;33m\u001b[0m\u001b[0m\n\u001b[0;32m   1315\u001b[0m     \u001b[1;32mdef\u001b[0m \u001b[0mkde\u001b[0m\u001b[1;33m(\u001b[0m\u001b[0mself\u001b[0m\u001b[1;33m,\u001b[0m \u001b[0mbw_method\u001b[0m\u001b[1;33m=\u001b[0m\u001b[1;32mNone\u001b[0m\u001b[1;33m,\u001b[0m \u001b[0mind\u001b[0m\u001b[1;33m=\u001b[0m\u001b[1;32mNone\u001b[0m\u001b[1;33m,\u001b[0m \u001b[1;33m**\u001b[0m\u001b[0mkwargs\u001b[0m\u001b[1;33m)\u001b[0m\u001b[1;33m:\u001b[0m\u001b[1;33m\u001b[0m\u001b[1;33m\u001b[0m\u001b[0m\n",
      "\u001b[1;32m~\\anaconda3\\lib\\site-packages\\pandas\\plotting\\_core.py\u001b[0m in \u001b[0;36m__call__\u001b[1;34m(self, *args, **kwargs)\u001b[0m\n\u001b[0;32m    970\u001b[0m                     \u001b[0mdata\u001b[0m\u001b[1;33m.\u001b[0m\u001b[0mcolumns\u001b[0m \u001b[1;33m=\u001b[0m \u001b[0mlabel_name\u001b[0m\u001b[1;33m\u001b[0m\u001b[1;33m\u001b[0m\u001b[0m\n\u001b[0;32m    971\u001b[0m \u001b[1;33m\u001b[0m\u001b[0m\n\u001b[1;32m--> 972\u001b[1;33m         \u001b[1;32mreturn\u001b[0m \u001b[0mplot_backend\u001b[0m\u001b[1;33m.\u001b[0m\u001b[0mplot\u001b[0m\u001b[1;33m(\u001b[0m\u001b[0mdata\u001b[0m\u001b[1;33m,\u001b[0m \u001b[0mkind\u001b[0m\u001b[1;33m=\u001b[0m\u001b[0mkind\u001b[0m\u001b[1;33m,\u001b[0m \u001b[1;33m**\u001b[0m\u001b[0mkwargs\u001b[0m\u001b[1;33m)\u001b[0m\u001b[1;33m\u001b[0m\u001b[1;33m\u001b[0m\u001b[0m\n\u001b[0m\u001b[0;32m    973\u001b[0m \u001b[1;33m\u001b[0m\u001b[0m\n\u001b[0;32m    974\u001b[0m     \u001b[0m__call__\u001b[0m\u001b[1;33m.\u001b[0m\u001b[0m__doc__\u001b[0m \u001b[1;33m=\u001b[0m \u001b[0m__doc__\u001b[0m\u001b[1;33m\u001b[0m\u001b[1;33m\u001b[0m\u001b[0m\n",
      "\u001b[1;32m~\\anaconda3\\lib\\site-packages\\pandas\\plotting\\_matplotlib\\__init__.py\u001b[0m in \u001b[0;36mplot\u001b[1;34m(data, kind, **kwargs)\u001b[0m\n\u001b[0;32m     69\u001b[0m             \u001b[0mkwargs\u001b[0m\u001b[1;33m[\u001b[0m\u001b[1;34m\"ax\"\u001b[0m\u001b[1;33m]\u001b[0m \u001b[1;33m=\u001b[0m \u001b[0mgetattr\u001b[0m\u001b[1;33m(\u001b[0m\u001b[0max\u001b[0m\u001b[1;33m,\u001b[0m \u001b[1;34m\"left_ax\"\u001b[0m\u001b[1;33m,\u001b[0m \u001b[0max\u001b[0m\u001b[1;33m)\u001b[0m\u001b[1;33m\u001b[0m\u001b[1;33m\u001b[0m\u001b[0m\n\u001b[0;32m     70\u001b[0m     \u001b[0mplot_obj\u001b[0m \u001b[1;33m=\u001b[0m \u001b[0mPLOT_CLASSES\u001b[0m\u001b[1;33m[\u001b[0m\u001b[0mkind\u001b[0m\u001b[1;33m]\u001b[0m\u001b[1;33m(\u001b[0m\u001b[0mdata\u001b[0m\u001b[1;33m,\u001b[0m \u001b[1;33m**\u001b[0m\u001b[0mkwargs\u001b[0m\u001b[1;33m)\u001b[0m\u001b[1;33m\u001b[0m\u001b[1;33m\u001b[0m\u001b[0m\n\u001b[1;32m---> 71\u001b[1;33m     \u001b[0mplot_obj\u001b[0m\u001b[1;33m.\u001b[0m\u001b[0mgenerate\u001b[0m\u001b[1;33m(\u001b[0m\u001b[1;33m)\u001b[0m\u001b[1;33m\u001b[0m\u001b[1;33m\u001b[0m\u001b[0m\n\u001b[0m\u001b[0;32m     72\u001b[0m     \u001b[0mplot_obj\u001b[0m\u001b[1;33m.\u001b[0m\u001b[0mdraw\u001b[0m\u001b[1;33m(\u001b[0m\u001b[1;33m)\u001b[0m\u001b[1;33m\u001b[0m\u001b[1;33m\u001b[0m\u001b[0m\n\u001b[0;32m     73\u001b[0m     \u001b[1;32mreturn\u001b[0m \u001b[0mplot_obj\u001b[0m\u001b[1;33m.\u001b[0m\u001b[0mresult\u001b[0m\u001b[1;33m\u001b[0m\u001b[1;33m\u001b[0m\u001b[0m\n",
      "\u001b[1;32m~\\anaconda3\\lib\\site-packages\\pandas\\plotting\\_matplotlib\\core.py\u001b[0m in \u001b[0;36mgenerate\u001b[1;34m(self)\u001b[0m\n\u001b[0;32m    286\u001b[0m         \u001b[0mself\u001b[0m\u001b[1;33m.\u001b[0m\u001b[0m_compute_plot_data\u001b[0m\u001b[1;33m(\u001b[0m\u001b[1;33m)\u001b[0m\u001b[1;33m\u001b[0m\u001b[1;33m\u001b[0m\u001b[0m\n\u001b[0;32m    287\u001b[0m         \u001b[0mself\u001b[0m\u001b[1;33m.\u001b[0m\u001b[0m_setup_subplots\u001b[0m\u001b[1;33m(\u001b[0m\u001b[1;33m)\u001b[0m\u001b[1;33m\u001b[0m\u001b[1;33m\u001b[0m\u001b[0m\n\u001b[1;32m--> 288\u001b[1;33m         \u001b[0mself\u001b[0m\u001b[1;33m.\u001b[0m\u001b[0m_make_plot\u001b[0m\u001b[1;33m(\u001b[0m\u001b[1;33m)\u001b[0m\u001b[1;33m\u001b[0m\u001b[1;33m\u001b[0m\u001b[0m\n\u001b[0m\u001b[0;32m    289\u001b[0m         \u001b[0mself\u001b[0m\u001b[1;33m.\u001b[0m\u001b[0m_add_table\u001b[0m\u001b[1;33m(\u001b[0m\u001b[1;33m)\u001b[0m\u001b[1;33m\u001b[0m\u001b[1;33m\u001b[0m\u001b[0m\n\u001b[0;32m    290\u001b[0m         \u001b[0mself\u001b[0m\u001b[1;33m.\u001b[0m\u001b[0m_make_legend\u001b[0m\u001b[1;33m(\u001b[0m\u001b[1;33m)\u001b[0m\u001b[1;33m\u001b[0m\u001b[1;33m\u001b[0m\u001b[0m\n",
      "\u001b[1;32m~\\anaconda3\\lib\\site-packages\\pandas\\plotting\\_matplotlib\\hist.py\u001b[0m in \u001b[0;36m_make_plot\u001b[1;34m(self)\u001b[0m\n\u001b[0;32m    106\u001b[0m                 \u001b[0mkwds\u001b[0m\u001b[1;33m[\u001b[0m\u001b[1;34m\"weights\"\u001b[0m\u001b[1;33m]\u001b[0m \u001b[1;33m=\u001b[0m \u001b[0mweights\u001b[0m\u001b[1;33m[\u001b[0m\u001b[1;33m:\u001b[0m\u001b[1;33m,\u001b[0m \u001b[0mi\u001b[0m\u001b[1;33m]\u001b[0m\u001b[1;33m\u001b[0m\u001b[1;33m\u001b[0m\u001b[0m\n\u001b[0;32m    107\u001b[0m \u001b[1;33m\u001b[0m\u001b[0m\n\u001b[1;32m--> 108\u001b[1;33m             \u001b[0martists\u001b[0m \u001b[1;33m=\u001b[0m \u001b[0mself\u001b[0m\u001b[1;33m.\u001b[0m\u001b[0m_plot\u001b[0m\u001b[1;33m(\u001b[0m\u001b[0max\u001b[0m\u001b[1;33m,\u001b[0m \u001b[0my\u001b[0m\u001b[1;33m,\u001b[0m \u001b[0mcolumn_num\u001b[0m\u001b[1;33m=\u001b[0m\u001b[0mi\u001b[0m\u001b[1;33m,\u001b[0m \u001b[0mstacking_id\u001b[0m\u001b[1;33m=\u001b[0m\u001b[0mstacking_id\u001b[0m\u001b[1;33m,\u001b[0m \u001b[1;33m**\u001b[0m\u001b[0mkwds\u001b[0m\u001b[1;33m)\u001b[0m\u001b[1;33m\u001b[0m\u001b[1;33m\u001b[0m\u001b[0m\n\u001b[0m\u001b[0;32m    109\u001b[0m             \u001b[0mself\u001b[0m\u001b[1;33m.\u001b[0m\u001b[0m_append_legend_handles_labels\u001b[0m\u001b[1;33m(\u001b[0m\u001b[0martists\u001b[0m\u001b[1;33m[\u001b[0m\u001b[1;36m0\u001b[0m\u001b[1;33m]\u001b[0m\u001b[1;33m,\u001b[0m \u001b[0mlabel\u001b[0m\u001b[1;33m)\u001b[0m\u001b[1;33m\u001b[0m\u001b[1;33m\u001b[0m\u001b[0m\n\u001b[0;32m    110\u001b[0m \u001b[1;33m\u001b[0m\u001b[0m\n",
      "\u001b[1;32m~\\anaconda3\\lib\\site-packages\\pandas\\plotting\\_matplotlib\\hist.py\u001b[0m in \u001b[0;36m_plot\u001b[1;34m(cls, ax, y, style, bins, bottom, column_num, stacking_id, **kwds)\u001b[0m\n\u001b[0;32m     76\u001b[0m         \u001b[0mbottom\u001b[0m \u001b[1;33m=\u001b[0m \u001b[0mbottom\u001b[0m \u001b[1;33m+\u001b[0m \u001b[0mcls\u001b[0m\u001b[1;33m.\u001b[0m\u001b[0m_get_stacked_values\u001b[0m\u001b[1;33m(\u001b[0m\u001b[0max\u001b[0m\u001b[1;33m,\u001b[0m \u001b[0mstacking_id\u001b[0m\u001b[1;33m,\u001b[0m \u001b[0mbase\u001b[0m\u001b[1;33m,\u001b[0m \u001b[0mkwds\u001b[0m\u001b[1;33m[\u001b[0m\u001b[1;34m\"label\"\u001b[0m\u001b[1;33m]\u001b[0m\u001b[1;33m)\u001b[0m\u001b[1;33m\u001b[0m\u001b[1;33m\u001b[0m\u001b[0m\n\u001b[0;32m     77\u001b[0m         \u001b[1;31m# ignore style\u001b[0m\u001b[1;33m\u001b[0m\u001b[1;33m\u001b[0m\u001b[1;33m\u001b[0m\u001b[0m\n\u001b[1;32m---> 78\u001b[1;33m         \u001b[0mn\u001b[0m\u001b[1;33m,\u001b[0m \u001b[0mbins\u001b[0m\u001b[1;33m,\u001b[0m \u001b[0mpatches\u001b[0m \u001b[1;33m=\u001b[0m \u001b[0max\u001b[0m\u001b[1;33m.\u001b[0m\u001b[0mhist\u001b[0m\u001b[1;33m(\u001b[0m\u001b[0my\u001b[0m\u001b[1;33m,\u001b[0m \u001b[0mbins\u001b[0m\u001b[1;33m=\u001b[0m\u001b[0mbins\u001b[0m\u001b[1;33m,\u001b[0m \u001b[0mbottom\u001b[0m\u001b[1;33m=\u001b[0m\u001b[0mbottom\u001b[0m\u001b[1;33m,\u001b[0m \u001b[1;33m**\u001b[0m\u001b[0mkwds\u001b[0m\u001b[1;33m)\u001b[0m\u001b[1;33m\u001b[0m\u001b[1;33m\u001b[0m\u001b[0m\n\u001b[0m\u001b[0;32m     79\u001b[0m         \u001b[0mcls\u001b[0m\u001b[1;33m.\u001b[0m\u001b[0m_update_stacker\u001b[0m\u001b[1;33m(\u001b[0m\u001b[0max\u001b[0m\u001b[1;33m,\u001b[0m \u001b[0mstacking_id\u001b[0m\u001b[1;33m,\u001b[0m \u001b[0mn\u001b[0m\u001b[1;33m)\u001b[0m\u001b[1;33m\u001b[0m\u001b[1;33m\u001b[0m\u001b[0m\n\u001b[0;32m     80\u001b[0m         \u001b[1;32mreturn\u001b[0m \u001b[0mpatches\u001b[0m\u001b[1;33m\u001b[0m\u001b[1;33m\u001b[0m\u001b[0m\n",
      "\u001b[1;32m~\\anaconda3\\lib\\site-packages\\matplotlib\\__init__.py\u001b[0m in \u001b[0;36minner\u001b[1;34m(ax, data, *args, **kwargs)\u001b[0m\n\u001b[0;32m   1563\u001b[0m     \u001b[1;32mdef\u001b[0m \u001b[0minner\u001b[0m\u001b[1;33m(\u001b[0m\u001b[0max\u001b[0m\u001b[1;33m,\u001b[0m \u001b[1;33m*\u001b[0m\u001b[0margs\u001b[0m\u001b[1;33m,\u001b[0m \u001b[0mdata\u001b[0m\u001b[1;33m=\u001b[0m\u001b[1;32mNone\u001b[0m\u001b[1;33m,\u001b[0m \u001b[1;33m**\u001b[0m\u001b[0mkwargs\u001b[0m\u001b[1;33m)\u001b[0m\u001b[1;33m:\u001b[0m\u001b[1;33m\u001b[0m\u001b[1;33m\u001b[0m\u001b[0m\n\u001b[0;32m   1564\u001b[0m         \u001b[1;32mif\u001b[0m \u001b[0mdata\u001b[0m \u001b[1;32mis\u001b[0m \u001b[1;32mNone\u001b[0m\u001b[1;33m:\u001b[0m\u001b[1;33m\u001b[0m\u001b[1;33m\u001b[0m\u001b[0m\n\u001b[1;32m-> 1565\u001b[1;33m             \u001b[1;32mreturn\u001b[0m \u001b[0mfunc\u001b[0m\u001b[1;33m(\u001b[0m\u001b[0max\u001b[0m\u001b[1;33m,\u001b[0m \u001b[1;33m*\u001b[0m\u001b[0mmap\u001b[0m\u001b[1;33m(\u001b[0m\u001b[0msanitize_sequence\u001b[0m\u001b[1;33m,\u001b[0m \u001b[0margs\u001b[0m\u001b[1;33m)\u001b[0m\u001b[1;33m,\u001b[0m \u001b[1;33m**\u001b[0m\u001b[0mkwargs\u001b[0m\u001b[1;33m)\u001b[0m\u001b[1;33m\u001b[0m\u001b[1;33m\u001b[0m\u001b[0m\n\u001b[0m\u001b[0;32m   1566\u001b[0m \u001b[1;33m\u001b[0m\u001b[0m\n\u001b[0;32m   1567\u001b[0m         \u001b[0mbound\u001b[0m \u001b[1;33m=\u001b[0m \u001b[0mnew_sig\u001b[0m\u001b[1;33m.\u001b[0m\u001b[0mbind\u001b[0m\u001b[1;33m(\u001b[0m\u001b[0max\u001b[0m\u001b[1;33m,\u001b[0m \u001b[1;33m*\u001b[0m\u001b[0margs\u001b[0m\u001b[1;33m,\u001b[0m \u001b[1;33m**\u001b[0m\u001b[0mkwargs\u001b[0m\u001b[1;33m)\u001b[0m\u001b[1;33m\u001b[0m\u001b[1;33m\u001b[0m\u001b[0m\n",
      "\u001b[1;32m~\\anaconda3\\lib\\site-packages\\matplotlib\\axes\\_axes.py\u001b[0m in \u001b[0;36mhist\u001b[1;34m(self, x, bins, range, density, weights, cumulative, bottom, histtype, align, orientation, rwidth, log, color, label, stacked, **kwargs)\u001b[0m\n\u001b[0;32m   6817\u001b[0m             \u001b[1;32mif\u001b[0m \u001b[0mpatch\u001b[0m\u001b[1;33m:\u001b[0m\u001b[1;33m\u001b[0m\u001b[1;33m\u001b[0m\u001b[0m\n\u001b[0;32m   6818\u001b[0m                 \u001b[0mp\u001b[0m \u001b[1;33m=\u001b[0m \u001b[0mpatch\u001b[0m\u001b[1;33m[\u001b[0m\u001b[1;36m0\u001b[0m\u001b[1;33m]\u001b[0m\u001b[1;33m\u001b[0m\u001b[1;33m\u001b[0m\u001b[0m\n\u001b[1;32m-> 6819\u001b[1;33m                 \u001b[0mp\u001b[0m\u001b[1;33m.\u001b[0m\u001b[0mupdate\u001b[0m\u001b[1;33m(\u001b[0m\u001b[0mkwargs\u001b[0m\u001b[1;33m)\u001b[0m\u001b[1;33m\u001b[0m\u001b[1;33m\u001b[0m\u001b[0m\n\u001b[0m\u001b[0;32m   6820\u001b[0m                 \u001b[1;32mif\u001b[0m \u001b[0mlbl\u001b[0m \u001b[1;32mis\u001b[0m \u001b[1;32mnot\u001b[0m \u001b[1;32mNone\u001b[0m\u001b[1;33m:\u001b[0m\u001b[1;33m\u001b[0m\u001b[1;33m\u001b[0m\u001b[0m\n\u001b[0;32m   6821\u001b[0m                     \u001b[0mp\u001b[0m\u001b[1;33m.\u001b[0m\u001b[0mset_label\u001b[0m\u001b[1;33m(\u001b[0m\u001b[0mlbl\u001b[0m\u001b[1;33m)\u001b[0m\u001b[1;33m\u001b[0m\u001b[1;33m\u001b[0m\u001b[0m\n",
      "\u001b[1;32m~\\anaconda3\\lib\\site-packages\\matplotlib\\artist.py\u001b[0m in \u001b[0;36mupdate\u001b[1;34m(self, props)\u001b[0m\n\u001b[0;32m   1004\u001b[0m \u001b[1;33m\u001b[0m\u001b[0m\n\u001b[0;32m   1005\u001b[0m         \u001b[1;32mwith\u001b[0m \u001b[0mcbook\u001b[0m\u001b[1;33m.\u001b[0m\u001b[0m_setattr_cm\u001b[0m\u001b[1;33m(\u001b[0m\u001b[0mself\u001b[0m\u001b[1;33m,\u001b[0m \u001b[0meventson\u001b[0m\u001b[1;33m=\u001b[0m\u001b[1;32mFalse\u001b[0m\u001b[1;33m)\u001b[0m\u001b[1;33m:\u001b[0m\u001b[1;33m\u001b[0m\u001b[1;33m\u001b[0m\u001b[0m\n\u001b[1;32m-> 1006\u001b[1;33m             \u001b[0mret\u001b[0m \u001b[1;33m=\u001b[0m \u001b[1;33m[\u001b[0m\u001b[0m_update_property\u001b[0m\u001b[1;33m(\u001b[0m\u001b[0mself\u001b[0m\u001b[1;33m,\u001b[0m \u001b[0mk\u001b[0m\u001b[1;33m,\u001b[0m \u001b[0mv\u001b[0m\u001b[1;33m)\u001b[0m \u001b[1;32mfor\u001b[0m \u001b[0mk\u001b[0m\u001b[1;33m,\u001b[0m \u001b[0mv\u001b[0m \u001b[1;32min\u001b[0m \u001b[0mprops\u001b[0m\u001b[1;33m.\u001b[0m\u001b[0mitems\u001b[0m\u001b[1;33m(\u001b[0m\u001b[1;33m)\u001b[0m\u001b[1;33m]\u001b[0m\u001b[1;33m\u001b[0m\u001b[1;33m\u001b[0m\u001b[0m\n\u001b[0m\u001b[0;32m   1007\u001b[0m \u001b[1;33m\u001b[0m\u001b[0m\n\u001b[0;32m   1008\u001b[0m         \u001b[1;32mif\u001b[0m \u001b[0mlen\u001b[0m\u001b[1;33m(\u001b[0m\u001b[0mret\u001b[0m\u001b[1;33m)\u001b[0m\u001b[1;33m:\u001b[0m\u001b[1;33m\u001b[0m\u001b[1;33m\u001b[0m\u001b[0m\n",
      "\u001b[1;32m~\\anaconda3\\lib\\site-packages\\matplotlib\\artist.py\u001b[0m in \u001b[0;36m<listcomp>\u001b[1;34m(.0)\u001b[0m\n\u001b[0;32m   1004\u001b[0m \u001b[1;33m\u001b[0m\u001b[0m\n\u001b[0;32m   1005\u001b[0m         \u001b[1;32mwith\u001b[0m \u001b[0mcbook\u001b[0m\u001b[1;33m.\u001b[0m\u001b[0m_setattr_cm\u001b[0m\u001b[1;33m(\u001b[0m\u001b[0mself\u001b[0m\u001b[1;33m,\u001b[0m \u001b[0meventson\u001b[0m\u001b[1;33m=\u001b[0m\u001b[1;32mFalse\u001b[0m\u001b[1;33m)\u001b[0m\u001b[1;33m:\u001b[0m\u001b[1;33m\u001b[0m\u001b[1;33m\u001b[0m\u001b[0m\n\u001b[1;32m-> 1006\u001b[1;33m             \u001b[0mret\u001b[0m \u001b[1;33m=\u001b[0m \u001b[1;33m[\u001b[0m\u001b[0m_update_property\u001b[0m\u001b[1;33m(\u001b[0m\u001b[0mself\u001b[0m\u001b[1;33m,\u001b[0m \u001b[0mk\u001b[0m\u001b[1;33m,\u001b[0m \u001b[0mv\u001b[0m\u001b[1;33m)\u001b[0m \u001b[1;32mfor\u001b[0m \u001b[0mk\u001b[0m\u001b[1;33m,\u001b[0m \u001b[0mv\u001b[0m \u001b[1;32min\u001b[0m \u001b[0mprops\u001b[0m\u001b[1;33m.\u001b[0m\u001b[0mitems\u001b[0m\u001b[1;33m(\u001b[0m\u001b[1;33m)\u001b[0m\u001b[1;33m]\u001b[0m\u001b[1;33m\u001b[0m\u001b[1;33m\u001b[0m\u001b[0m\n\u001b[0m\u001b[0;32m   1007\u001b[0m \u001b[1;33m\u001b[0m\u001b[0m\n\u001b[0;32m   1008\u001b[0m         \u001b[1;32mif\u001b[0m \u001b[0mlen\u001b[0m\u001b[1;33m(\u001b[0m\u001b[0mret\u001b[0m\u001b[1;33m)\u001b[0m\u001b[1;33m:\u001b[0m\u001b[1;33m\u001b[0m\u001b[1;33m\u001b[0m\u001b[0m\n",
      "\u001b[1;32m~\\anaconda3\\lib\\site-packages\\matplotlib\\artist.py\u001b[0m in \u001b[0;36m_update_property\u001b[1;34m(self, k, v)\u001b[0m\n\u001b[0;32m    999\u001b[0m                 \u001b[0mfunc\u001b[0m \u001b[1;33m=\u001b[0m \u001b[0mgetattr\u001b[0m\u001b[1;33m(\u001b[0m\u001b[0mself\u001b[0m\u001b[1;33m,\u001b[0m \u001b[1;34m'set_'\u001b[0m \u001b[1;33m+\u001b[0m \u001b[0mk\u001b[0m\u001b[1;33m,\u001b[0m \u001b[1;32mNone\u001b[0m\u001b[1;33m)\u001b[0m\u001b[1;33m\u001b[0m\u001b[1;33m\u001b[0m\u001b[0m\n\u001b[0;32m   1000\u001b[0m                 \u001b[1;32mif\u001b[0m \u001b[1;32mnot\u001b[0m \u001b[0mcallable\u001b[0m\u001b[1;33m(\u001b[0m\u001b[0mfunc\u001b[0m\u001b[1;33m)\u001b[0m\u001b[1;33m:\u001b[0m\u001b[1;33m\u001b[0m\u001b[1;33m\u001b[0m\u001b[0m\n\u001b[1;32m-> 1001\u001b[1;33m                     raise AttributeError('{!r} object has no property {!r}'\n\u001b[0m\u001b[0;32m   1002\u001b[0m                                          .format(type(self).__name__, k))\n\u001b[0;32m   1003\u001b[0m                 \u001b[1;32mreturn\u001b[0m \u001b[0mfunc\u001b[0m\u001b[1;33m(\u001b[0m\u001b[0mv\u001b[0m\u001b[1;33m)\u001b[0m\u001b[1;33m\u001b[0m\u001b[1;33m\u001b[0m\u001b[0m\n",
      "\u001b[1;31mAttributeError\u001b[0m: 'Rectangle' object has no property 'ciolor'"
     ]
    },
    {
     "data": {
      "image/png": "[encoded data removed]",
      "text/plain": [
       "<Figure size 432x288 with 1 Axes>"
      ]
     },
     "metadata": {},
     "output_type": "display_data"
    }
   ],
   "source": [
    "# 히스토그램(디자인)\n",
    "ax=df_use['이동거리'].plot.hist(bins=14,ciolor=\"royalblue\",edgecolor=\"w\")"
   ]
  },
  {
   "cell_type": "code",
   "execution_count": null,
   "metadata": {},
   "outputs": [],
   "source": []
  },
  {
   "cell_type": "code",
   "execution_count": null,
   "metadata": {},
   "outputs": [],
   "source": []
  },
  {
   "cell_type": "code",
   "execution_count": null,
   "metadata": {},
   "outputs": [],
   "source": []
  },
  {
   "cell_type": "code",
   "execution_count": null,
   "metadata": {},
   "outputs": [],
   "source": []
  }
 ],
 "metadata": {
  "kernelspec": {
   "display_name": "Python 3",
   "language": "python",
   "name": "python3"
  },
  "language_info": {
   "codemirror_mode": {
    "name": "ipython",
    "version": 3
   },
   "file_extension": ".py",
   "mimetype": "text/x-python",
   "name": "python",
   "nbconvert_exporter": "python",
   "pygments_lexer": "ipython3",
   "version": "3.8.3"
  }
 },
 "nbformat": 4,
 "nbformat_minor": 4
}
